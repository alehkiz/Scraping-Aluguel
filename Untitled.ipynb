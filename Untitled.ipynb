{
 "cells": [
  {
   "cell_type": "code",
   "execution_count": 168,
   "id": "4c5ad882",
   "metadata": {},
   "outputs": [],
   "source": [
    "import pandas as pd\n",
    "import numpy as np\n",
    "\n",
    "\n",
    "from sklearn.preprocessing import OrdinalEncoder\n",
    "from sklearn.linear_model import LinearRegression\n",
    "from sklearn.metrics import mean_absolute_percentage_error as mape, mean_absolute_error as mae\n",
    "from sklearn.model_selection import cross_val_score, KFold\n",
    "from sklearn.model_selection import train_test_split\n",
    "from scipy.stats import norm, probplot\n",
    "\n",
    "import seaborn as sns\n",
    "import matplotlib.pyplot as plt"
   ]
  },
  {
   "cell_type": "code",
   "execution_count": 217,
   "id": "2eb1910d",
   "metadata": {},
   "outputs": [],
   "source": [
    "def score(X_train, X_valid, y_train, y_valid):\n",
    "    model = RandomForestRegressor(n_estimators=100, random_state=0)\n",
    "    model.fit(X_train, y_train)\n",
    "    preds = model.predict(X_valid)\n",
    "    return mae(y_valid, preds)"
   ]
  },
  {
   "cell_type": "code",
   "execution_count": 218,
   "id": "b721f397",
   "metadata": {},
   "outputs": [],
   "source": [
    "df = pd.read_excel('data/dados.xlsx')"
   ]
  },
  {
   "cell_type": "code",
   "execution_count": 219,
   "id": "e5be2c73",
   "metadata": {},
   "outputs": [],
   "source": [
    "df['ID'] = df.url.map(lambda x : x.rsplit('-')[-1].replace('/', ''))"
   ]
  },
  {
   "cell_type": "code",
   "execution_count": 225,
   "id": "42c8a9fc",
   "metadata": {},
   "outputs": [
    {
     "data": {
      "text/html": [
       "<div>\n",
       "<style scoped>\n",
       "    .dataframe tbody tr th:only-of-type {\n",
       "        vertical-align: middle;\n",
       "    }\n",
       "\n",
       "    .dataframe tbody tr th {\n",
       "        vertical-align: top;\n",
       "    }\n",
       "\n",
       "    .dataframe thead th {\n",
       "        text-align: right;\n",
       "    }\n",
       "</style>\n",
       "<table border=\"1\" class=\"dataframe\">\n",
       "  <thead>\n",
       "    <tr style=\"text-align: right;\">\n",
       "      <th></th>\n",
       "      <th>bedrooms</th>\n",
       "      <th>bathrooms</th>\n",
       "      <th>parking</th>\n",
       "      <th>rent</th>\n",
       "      <th>Condomínio</th>\n",
       "      <th>Preço c/ condomínio</th>\n",
       "      <th>IPTU</th>\n",
       "      <th>suburb</th>\n",
       "      <th>city_district</th>\n",
       "      <th>postcode</th>\n",
       "      <th>ID</th>\n",
       "      <th>bairro</th>\n",
       "    </tr>\n",
       "  </thead>\n",
       "  <tbody>\n",
       "    <tr>\n",
       "      <th>951</th>\n",
       "      <td>4.0</td>\n",
       "      <td>84</td>\n",
       "      <td>5.0</td>\n",
       "      <td>32000000.0</td>\n",
       "      <td>0</td>\n",
       "      <td>0</td>\n",
       "      <td>0</td>\n",
       "      <td>Cidade Jardim</td>\n",
       "      <td>Jacareí</td>\n",
       "      <td>12320-260</td>\n",
       "      <td>2569380902</td>\n",
       "      <td>Cidade Jardim</td>\n",
       "    </tr>\n",
       "  </tbody>\n",
       "</table>\n",
       "</div>"
      ],
      "text/plain": [
       "     bedrooms  bathrooms  parking        rent  Condomínio  \\\n",
       "951       4.0         84      5.0  32000000.0           0   \n",
       "\n",
       "     Preço c/ condomínio  IPTU         suburb city_district   postcode  \\\n",
       "951                    0     0  Cidade Jardim       Jacareí  12320-260   \n",
       "\n",
       "             ID         bairro  \n",
       "951  2569380902  Cidade Jardim  "
      ]
     },
     "execution_count": 225,
     "metadata": {},
     "output_type": "execute_result"
    }
   ],
   "source": [
    "df[df['ID'] == '2569380902']"
   ]
  },
  {
   "cell_type": "code",
   "execution_count": 226,
   "id": "3a6900ad",
   "metadata": {},
   "outputs": [
    {
     "data": {
      "text/html": [
       "<div>\n",
       "<style scoped>\n",
       "    .dataframe tbody tr th:only-of-type {\n",
       "        vertical-align: middle;\n",
       "    }\n",
       "\n",
       "    .dataframe tbody tr th {\n",
       "        vertical-align: top;\n",
       "    }\n",
       "\n",
       "    .dataframe thead th {\n",
       "        text-align: right;\n",
       "    }\n",
       "</style>\n",
       "<table border=\"1\" class=\"dataframe\">\n",
       "  <thead>\n",
       "    <tr style=\"text-align: right;\">\n",
       "      <th></th>\n",
       "      <th>bedrooms</th>\n",
       "      <th>bathrooms</th>\n",
       "      <th>parking</th>\n",
       "      <th>rent</th>\n",
       "      <th>Condomínio</th>\n",
       "      <th>Preço c/ condomínio</th>\n",
       "      <th>IPTU</th>\n",
       "      <th>suburb</th>\n",
       "      <th>city_district</th>\n",
       "      <th>postcode</th>\n",
       "      <th>ID</th>\n",
       "      <th>bairro</th>\n",
       "    </tr>\n",
       "  </thead>\n",
       "  <tbody>\n",
       "    <tr>\n",
       "      <th>0</th>\n",
       "      <td>2.0</td>\n",
       "      <td>21</td>\n",
       "      <td>1.0</td>\n",
       "      <td>3900.0</td>\n",
       "      <td>746</td>\n",
       "      <td>4646</td>\n",
       "      <td>225</td>\n",
       "      <td>NaN</td>\n",
       "      <td>Santo Amaro</td>\n",
       "      <td>04757-000</td>\n",
       "      <td>2567996191</td>\n",
       "      <td>Santo Amaro</td>\n",
       "    </tr>\n",
       "    <tr>\n",
       "      <th>1</th>\n",
       "      <td>1.0</td>\n",
       "      <td>1</td>\n",
       "      <td>NaN</td>\n",
       "      <td>900.0</td>\n",
       "      <td>0</td>\n",
       "      <td>0</td>\n",
       "      <td>0</td>\n",
       "      <td>Cidade Dutra</td>\n",
       "      <td>NaN</td>\n",
       "      <td>04823-280</td>\n",
       "      <td>2570376401</td>\n",
       "      <td>Cidade Dutra</td>\n",
       "    </tr>\n",
       "    <tr>\n",
       "      <th>2</th>\n",
       "      <td>1.0</td>\n",
       "      <td>1</td>\n",
       "      <td>1.0</td>\n",
       "      <td>2500.0</td>\n",
       "      <td>726</td>\n",
       "      <td>3226</td>\n",
       "      <td>0</td>\n",
       "      <td>NaN</td>\n",
       "      <td>NaN</td>\n",
       "      <td>16800-000</td>\n",
       "      <td>2569668137</td>\n",
       "      <td>NaN</td>\n",
       "    </tr>\n",
       "    <tr>\n",
       "      <th>3</th>\n",
       "      <td>1.0</td>\n",
       "      <td>11</td>\n",
       "      <td>NaN</td>\n",
       "      <td>1700.0</td>\n",
       "      <td>350</td>\n",
       "      <td>2050</td>\n",
       "      <td>0</td>\n",
       "      <td>Itaim Paulista</td>\n",
       "      <td>NaN</td>\n",
       "      <td>08541-310</td>\n",
       "      <td>2571839898</td>\n",
       "      <td>Itaim Paulista</td>\n",
       "    </tr>\n",
       "    <tr>\n",
       "      <th>4</th>\n",
       "      <td>1.0</td>\n",
       "      <td>11</td>\n",
       "      <td>1.0</td>\n",
       "      <td>3500.0</td>\n",
       "      <td>706</td>\n",
       "      <td>4206</td>\n",
       "      <td>296</td>\n",
       "      <td>Jardim Paulista</td>\n",
       "      <td>NaN</td>\n",
       "      <td>01421-000</td>\n",
       "      <td>2565061371</td>\n",
       "      <td>Jardim Paulista</td>\n",
       "    </tr>\n",
       "    <tr>\n",
       "      <th>...</th>\n",
       "      <td>...</td>\n",
       "      <td>...</td>\n",
       "      <td>...</td>\n",
       "      <td>...</td>\n",
       "      <td>...</td>\n",
       "      <td>...</td>\n",
       "      <td>...</td>\n",
       "      <td>...</td>\n",
       "      <td>...</td>\n",
       "      <td>...</td>\n",
       "      <td>...</td>\n",
       "      <td>...</td>\n",
       "    </tr>\n",
       "    <tr>\n",
       "      <th>1821</th>\n",
       "      <td>1.0</td>\n",
       "      <td>11</td>\n",
       "      <td>1.0</td>\n",
       "      <td>3700.0</td>\n",
       "      <td>950</td>\n",
       "      <td>4650</td>\n",
       "      <td>2200</td>\n",
       "      <td>Santo Amaro</td>\n",
       "      <td>Santo Amaro</td>\n",
       "      <td>04713-001</td>\n",
       "      <td>2570953817</td>\n",
       "      <td>Santo Amaro</td>\n",
       "    </tr>\n",
       "    <tr>\n",
       "      <th>1822</th>\n",
       "      <td>NaN</td>\n",
       "      <td>3</td>\n",
       "      <td>3.0</td>\n",
       "      <td>4500.0</td>\n",
       "      <td>3500</td>\n",
       "      <td>8000</td>\n",
       "      <td>1250</td>\n",
       "      <td>Itaim Bibi</td>\n",
       "      <td>NaN</td>\n",
       "      <td>01435-001</td>\n",
       "      <td>2570282003</td>\n",
       "      <td>Itaim Bibi</td>\n",
       "    </tr>\n",
       "    <tr>\n",
       "      <th>1823</th>\n",
       "      <td>NaN</td>\n",
       "      <td>1</td>\n",
       "      <td>2.0</td>\n",
       "      <td>3900.0</td>\n",
       "      <td>870</td>\n",
       "      <td>4770</td>\n",
       "      <td>568</td>\n",
       "      <td>Itaim Bibi</td>\n",
       "      <td>NaN</td>\n",
       "      <td>04564-004</td>\n",
       "      <td>2565992339</td>\n",
       "      <td>Itaim Bibi</td>\n",
       "    </tr>\n",
       "    <tr>\n",
       "      <th>1824</th>\n",
       "      <td>NaN</td>\n",
       "      <td>1</td>\n",
       "      <td>NaN</td>\n",
       "      <td>1970.0</td>\n",
       "      <td>720</td>\n",
       "      <td>2690</td>\n",
       "      <td>224</td>\n",
       "      <td>Bela Vista</td>\n",
       "      <td>Paulínia</td>\n",
       "      <td>13145-089</td>\n",
       "      <td>2571241395</td>\n",
       "      <td>Bela Vista</td>\n",
       "    </tr>\n",
       "    <tr>\n",
       "      <th>1825</th>\n",
       "      <td>1.0</td>\n",
       "      <td>1</td>\n",
       "      <td>NaN</td>\n",
       "      <td>1800.0</td>\n",
       "      <td>516</td>\n",
       "      <td>2316</td>\n",
       "      <td>113</td>\n",
       "      <td>Vila Andrade</td>\n",
       "      <td>NaN</td>\n",
       "      <td>05640-000</td>\n",
       "      <td>2542804380</td>\n",
       "      <td>Vila Andrade</td>\n",
       "    </tr>\n",
       "  </tbody>\n",
       "</table>\n",
       "<p>1826 rows × 12 columns</p>\n",
       "</div>"
      ],
      "text/plain": [
       "      bedrooms  bathrooms  parking    rent  Condomínio  Preço c/ condomínio  \\\n",
       "0          2.0         21      1.0  3900.0         746                 4646   \n",
       "1          1.0          1      NaN   900.0           0                    0   \n",
       "2          1.0          1      1.0  2500.0         726                 3226   \n",
       "3          1.0         11      NaN  1700.0         350                 2050   \n",
       "4          1.0         11      1.0  3500.0         706                 4206   \n",
       "...        ...        ...      ...     ...         ...                  ...   \n",
       "1821       1.0         11      1.0  3700.0         950                 4650   \n",
       "1822       NaN          3      3.0  4500.0        3500                 8000   \n",
       "1823       NaN          1      2.0  3900.0         870                 4770   \n",
       "1824       NaN          1      NaN  1970.0         720                 2690   \n",
       "1825       1.0          1      NaN  1800.0         516                 2316   \n",
       "\n",
       "      IPTU           suburb city_district   postcode          ID  \\\n",
       "0      225              NaN   Santo Amaro  04757-000  2567996191   \n",
       "1        0     Cidade Dutra           NaN  04823-280  2570376401   \n",
       "2        0              NaN           NaN  16800-000  2569668137   \n",
       "3        0   Itaim Paulista           NaN  08541-310  2571839898   \n",
       "4      296  Jardim Paulista           NaN  01421-000  2565061371   \n",
       "...    ...              ...           ...        ...         ...   \n",
       "1821  2200      Santo Amaro   Santo Amaro  04713-001  2570953817   \n",
       "1822  1250       Itaim Bibi           NaN  01435-001  2570282003   \n",
       "1823   568       Itaim Bibi           NaN  04564-004  2565992339   \n",
       "1824   224       Bela Vista      Paulínia  13145-089  2571241395   \n",
       "1825   113     Vila Andrade           NaN  05640-000  2542804380   \n",
       "\n",
       "               bairro  \n",
       "0         Santo Amaro  \n",
       "1        Cidade Dutra  \n",
       "2                 NaN  \n",
       "3      Itaim Paulista  \n",
       "4     Jardim Paulista  \n",
       "...               ...  \n",
       "1821      Santo Amaro  \n",
       "1822       Itaim Bibi  \n",
       "1823       Itaim Bibi  \n",
       "1824       Bela Vista  \n",
       "1825     Vila Andrade  \n",
       "\n",
       "[1826 rows x 12 columns]"
      ]
     },
     "execution_count": 226,
     "metadata": {},
     "output_type": "execute_result"
    }
   ],
   "source": [
    "df"
   ]
  },
  {
   "cell_type": "code",
   "execution_count": 220,
   "id": "96bfd54c",
   "metadata": {},
   "outputs": [],
   "source": [
    "#removendo colunas desnecessárias\n",
    "df.drop(columns=['address', 'amenities', 'title', 'address_class', 'url', 'geocode'], inplace=True)"
   ]
  },
  {
   "cell_type": "markdown",
   "id": "6a5ff5c4",
   "metadata": {},
   "source": [
    "Quais são os dados nulos?"
   ]
  },
  {
   "cell_type": "code",
   "execution_count": 221,
   "id": "22742387",
   "metadata": {},
   "outputs": [
    {
     "data": {
      "text/plain": [
       "bathrooms                 0\n",
       "Condomínio                0\n",
       "Preço c/ condomínio       0\n",
       "IPTU                      0\n",
       "ID                        0\n",
       "postcode                188\n",
       "rent                    260\n",
       "bedrooms                324\n",
       "suburb                  407\n",
       "parking                 607\n",
       "city_district          1031\n",
       "dtype: int64"
      ]
     },
     "execution_count": 221,
     "metadata": {},
     "output_type": "execute_result"
    }
   ],
   "source": [
    "df.isna().sum().sort_values()"
   ]
  },
  {
   "cell_type": "code",
   "execution_count": 222,
   "id": "934122f5",
   "metadata": {},
   "outputs": [],
   "source": [
    "def trata_bairro(row):\n",
    "    '''\n",
    "    Função para retornar o campo bairro.\n",
    "    '''\n",
    "    if pd.isna(row['suburb']) and pd.isna(row['city_district']):\n",
    "        return np.nan\n",
    "    if not pd.isna(row['suburb']):\n",
    "        return row['suburb']\n",
    "    elif not pd.isna(row['city_district']):\n",
    "        return row['city_district']\n",
    "    return 'Analisar'\n",
    "#     elif row['suburb'] == row['city_district']:\n",
    "#         return row['city_district']\n",
    "#     else: \n",
    "#         return 'Diferente'"
   ]
  },
  {
   "cell_type": "code",
   "execution_count": 223,
   "id": "9300ec85",
   "metadata": {},
   "outputs": [],
   "source": [
    "df['bairro'] = df.apply(trata_bairro, axis=1)"
   ]
  },
  {
   "cell_type": "markdown",
   "id": "e2b3d904",
   "metadata": {},
   "source": [
    "Quais os registros sem bairro?"
   ]
  },
  {
   "cell_type": "code",
   "execution_count": 206,
   "id": "e382555b",
   "metadata": {},
   "outputs": [
    {
     "data": {
      "text/plain": [
       "323"
      ]
     },
     "execution_count": 206,
     "metadata": {},
     "output_type": "execute_result"
    }
   ],
   "source": [
    "df.bairro.isna().sum()"
   ]
  },
  {
   "cell_type": "markdown",
   "id": "a57c2222",
   "metadata": {},
   "source": [
    "Vamos remover os registros que não tenham valores na coluna bairro"
   ]
  },
  {
   "cell_type": "code",
   "execution_count": 207,
   "id": "7d456174",
   "metadata": {},
   "outputs": [],
   "source": [
    "df.dropna(subset=['bairro'], inplace=True)"
   ]
  },
  {
   "cell_type": "markdown",
   "id": "2cf4f1c4",
   "metadata": {},
   "source": [
    "Não precisamos mais das colunas `suburb` e `city_district` e `postcode` (talvez retornemos com o postcode)"
   ]
  },
  {
   "cell_type": "code",
   "execution_count": 208,
   "id": "a30040fc",
   "metadata": {},
   "outputs": [],
   "source": [
    "df.drop(columns=['suburb', 'city_district', 'postcode'], inplace=True)"
   ]
  },
  {
   "cell_type": "markdown",
   "id": "301401bf",
   "metadata": {},
   "source": [
    "O Valor do `aluguel` + `Condomínio` é examtanet o valor do proço total? Sim!!"
   ]
  },
  {
   "cell_type": "code",
   "execution_count": 209,
   "id": "23a8f18f",
   "metadata": {},
   "outputs": [],
   "source": [
    "df=df.drop(columns=['Preço c/ condomínio','IPTU','Condomínio']).rename({\n",
    "    'bedrooms':'Quartos',\n",
    "    'bathrooms':'Banheiros',\n",
    "    'rent':'Preco',\n",
    "    'bairro':'Bairro',\n",
    "    'parking': 'Estacionamento'\n",
    "}, axis=1) #[~((df['rent'].astype(int) + df['Condomínio'].astype(int)) == df['Preço c/ condomínio'].astype(int))]"
   ]
  },
  {
   "cell_type": "code",
   "execution_count": 210,
   "id": "6b2f72e0",
   "metadata": {},
   "outputs": [],
   "source": [
    "df.Quartos = df.Quartos.fillna(0).astype(int)"
   ]
  },
  {
   "cell_type": "code",
   "execution_count": 211,
   "id": "1e1f531e",
   "metadata": {},
   "outputs": [],
   "source": [
    "df.Estacionamento = df.Estacionamento.fillna(0)"
   ]
  },
  {
   "cell_type": "markdown",
   "id": "65cd78c4",
   "metadata": {},
   "source": [
    "Valores nulos?"
   ]
  },
  {
   "cell_type": "code",
   "execution_count": 212,
   "id": "b2a836ac",
   "metadata": {},
   "outputs": [
    {
     "data": {
      "text/plain": [
       "Quartos           0\n",
       "Banheiros         0\n",
       "Estacionamento    0\n",
       "Preco             0\n",
       "ID                0\n",
       "Bairro            0\n",
       "dtype: int64"
      ]
     },
     "execution_count": 212,
     "metadata": {},
     "output_type": "execute_result"
    }
   ],
   "source": [
    "df.isna().sum()"
   ]
  },
  {
   "cell_type": "code",
   "execution_count": 213,
   "id": "49e6f639",
   "metadata": {},
   "outputs": [],
   "source": [
    "df.reset_index(drop=True, inplace=True)"
   ]
  },
  {
   "cell_type": "code",
   "execution_count": 214,
   "id": "6647d956",
   "metadata": {},
   "outputs": [
    {
     "data": {
      "text/plain": [
       "335047.4377910845"
      ]
     },
     "execution_count": 214,
     "metadata": {},
     "output_type": "execute_result"
    }
   ],
   "source": [
    "df.Preco.mean()"
   ]
  },
  {
   "cell_type": "code",
   "execution_count": 215,
   "id": "8e72cbfc",
   "metadata": {},
   "outputs": [
    {
     "data": {
      "text/plain": [
       "3000.0"
      ]
     },
     "execution_count": 215,
     "metadata": {},
     "output_type": "execute_result"
    }
   ],
   "source": [
    "df.Preco.median()"
   ]
  },
  {
   "cell_type": "code",
   "execution_count": 216,
   "id": "53ffee70",
   "metadata": {},
   "outputs": [
    {
     "data": {
      "text/html": [
       "<div>\n",
       "<style scoped>\n",
       "    .dataframe tbody tr th:only-of-type {\n",
       "        vertical-align: middle;\n",
       "    }\n",
       "\n",
       "    .dataframe tbody tr th {\n",
       "        vertical-align: top;\n",
       "    }\n",
       "\n",
       "    .dataframe thead th {\n",
       "        text-align: right;\n",
       "    }\n",
       "</style>\n",
       "<table border=\"1\" class=\"dataframe\">\n",
       "  <thead>\n",
       "    <tr style=\"text-align: right;\">\n",
       "      <th></th>\n",
       "      <th>Quartos</th>\n",
       "      <th>Banheiros</th>\n",
       "      <th>Estacionamento</th>\n",
       "      <th>Preco</th>\n",
       "      <th>ID</th>\n",
       "      <th>Bairro</th>\n",
       "    </tr>\n",
       "  </thead>\n",
       "  <tbody>\n",
       "    <tr>\n",
       "      <th>763</th>\n",
       "      <td>4</td>\n",
       "      <td>84</td>\n",
       "      <td>5.0</td>\n",
       "      <td>32000000.0</td>\n",
       "      <td>2569380902</td>\n",
       "      <td>Cidade Jardim</td>\n",
       "    </tr>\n",
       "    <tr>\n",
       "      <th>682</th>\n",
       "      <td>33</td>\n",
       "      <td>13</td>\n",
       "      <td>15.0</td>\n",
       "      <td>32000000.0</td>\n",
       "      <td>2548293871</td>\n",
       "      <td>Jardins Rio Preto</td>\n",
       "    </tr>\n",
       "    <tr>\n",
       "      <th>596</th>\n",
       "      <td>5</td>\n",
       "      <td>85</td>\n",
       "      <td>6.0</td>\n",
       "      <td>20500000.0</td>\n",
       "      <td>2558654059</td>\n",
       "      <td>Alto de Pinheiros</td>\n",
       "    </tr>\n",
       "    <tr>\n",
       "      <th>1252</th>\n",
       "      <td>4</td>\n",
       "      <td>74</td>\n",
       "      <td>6.0</td>\n",
       "      <td>17500000.0</td>\n",
       "      <td>2535613322</td>\n",
       "      <td>Moema</td>\n",
       "    </tr>\n",
       "    <tr>\n",
       "      <th>221</th>\n",
       "      <td>3</td>\n",
       "      <td>43</td>\n",
       "      <td>4.0</td>\n",
       "      <td>13500000.0</td>\n",
       "      <td>2563934204</td>\n",
       "      <td>Morumbi</td>\n",
       "    </tr>\n",
       "    <tr>\n",
       "      <th>...</th>\n",
       "      <td>...</td>\n",
       "      <td>...</td>\n",
       "      <td>...</td>\n",
       "      <td>...</td>\n",
       "      <td>...</td>\n",
       "      <td>...</td>\n",
       "    </tr>\n",
       "    <tr>\n",
       "      <th>1145</th>\n",
       "      <td>2</td>\n",
       "      <td>1</td>\n",
       "      <td>1.0</td>\n",
       "      <td>150000.0</td>\n",
       "      <td>2503416705</td>\n",
       "      <td>São Rafael</td>\n",
       "    </tr>\n",
       "    <tr>\n",
       "      <th>1077</th>\n",
       "      <td>2</td>\n",
       "      <td>1</td>\n",
       "      <td>0.0</td>\n",
       "      <td>150000.0</td>\n",
       "      <td>1426085478</td>\n",
       "      <td>República</td>\n",
       "    </tr>\n",
       "    <tr>\n",
       "      <th>1058</th>\n",
       "      <td>13</td>\n",
       "      <td>10</td>\n",
       "      <td>33.0</td>\n",
       "      <td>110000.0</td>\n",
       "      <td>2562887355</td>\n",
       "      <td>Quinta do Golfe Jardins</td>\n",
       "    </tr>\n",
       "    <tr>\n",
       "      <th>1394</th>\n",
       "      <td>4</td>\n",
       "      <td>54</td>\n",
       "      <td>5.0</td>\n",
       "      <td>70000.0</td>\n",
       "      <td>2565843893</td>\n",
       "      <td>Moema</td>\n",
       "    </tr>\n",
       "    <tr>\n",
       "      <th>343</th>\n",
       "      <td>5</td>\n",
       "      <td>85</td>\n",
       "      <td>6.0</td>\n",
       "      <td>70000.0</td>\n",
       "      <td>2559305169</td>\n",
       "      <td>Moema</td>\n",
       "    </tr>\n",
       "  </tbody>\n",
       "</table>\n",
       "<p>272 rows × 6 columns</p>\n",
       "</div>"
      ],
      "text/plain": [
       "      Quartos  Banheiros  Estacionamento       Preco          ID  \\\n",
       "763         4         84             5.0  32000000.0  2569380902   \n",
       "682        33         13            15.0  32000000.0  2548293871   \n",
       "596         5         85             6.0  20500000.0  2558654059   \n",
       "1252        4         74             6.0  17500000.0  2535613322   \n",
       "221         3         43             4.0  13500000.0  2563934204   \n",
       "...       ...        ...             ...         ...         ...   \n",
       "1145        2          1             1.0    150000.0  2503416705   \n",
       "1077        2          1             0.0    150000.0  1426085478   \n",
       "1058       13         10            33.0    110000.0  2562887355   \n",
       "1394        4         54             5.0     70000.0  2565843893   \n",
       "343         5         85             6.0     70000.0  2559305169   \n",
       "\n",
       "                       Bairro  \n",
       "763             Cidade Jardim  \n",
       "682         Jardins Rio Preto  \n",
       "596         Alto de Pinheiros  \n",
       "1252                    Moema  \n",
       "221                   Morumbi  \n",
       "...                       ...  \n",
       "1145               São Rafael  \n",
       "1077                República  \n",
       "1058  Quinta do Golfe Jardins  \n",
       "1394                    Moema  \n",
       "343                     Moema  \n",
       "\n",
       "[272 rows x 6 columns]"
      ]
     },
     "execution_count": 216,
     "metadata": {},
     "output_type": "execute_result"
    }
   ],
   "source": [
    "df[df.Preco > 50000].sort_values(by=['Preco'], ascending=False)"
   ]
  },
  {
   "cell_type": "code",
   "execution_count": 167,
   "id": "d88bb20e",
   "metadata": {},
   "outputs": [
    {
     "data": {
      "image/png": "[encoded data removed]",
      "text/plain": [
       "<Figure size 432x288 with 1 Axes>"
      ]
     },
     "metadata": {
      "needs_background": "light"
     },
     "output_type": "display_data"
    }
   ],
   "source": [
    "fig, ax= plt.subplots()\n",
    "ax.scatter(x=df['Quartos'], y=np.log(df['Preco']))\n",
    "plt.ylabel('Preço')\n",
    "plt.xlabel('Quartos')\n",
    "plt.title(\"Preço X Quantidade de Quartos\")\n",
    "plt.show()"
   ]
  },
  {
   "cell_type": "code",
   "execution_count": 173,
   "id": "b79bc6da",
   "metadata": {},
   "outputs": [
    {
     "name": "stderr",
     "output_type": "stream",
     "text": [
      "c:\\python\\lib\\site-packages\\seaborn\\distributions.py:2619: FutureWarning: `distplot` is a deprecated function and will be removed in a future version. Please adapt your code to use either `displot` (a figure-level function with similar flexibility) or `histplot` (an axes-level function for histograms).\n",
      "  warnings.warn(msg, FutureWarning)\n"
     ]
    },
    {
     "data": {
      "image/png": "[encoded data removed]",
      "text/plain": [
       "<Figure size 432x288 with 1 Axes>"
      ]
     },
     "metadata": {
      "needs_background": "light"
     },
     "output_type": "display_data"
    }
   ],
   "source": [
    "sns.distplot(df.Preco, fit=norm)\n",
    "plt.xlabel('Preço Imóvel')\n",
    "plt.ylabel('Quantidade de Imóveis')\n",
    "plt.title('Normalizando o preço com o log')\n",
    "plt.show()"
   ]
  },
  {
   "cell_type": "code",
   "execution_count": 160,
   "id": "ad101d84",
   "metadata": {
    "scrolled": true
   },
   "outputs": [
    {
     "data": {
      "text/plain": [
       "0       3900.0\n",
       "1        900.0\n",
       "3       1700.0\n",
       "4       3500.0\n",
       "5       2300.0\n",
       "         ...  \n",
       "1821    3700.0\n",
       "1822    4500.0\n",
       "1823    3900.0\n",
       "1824    1970.0\n",
       "1825    1800.0\n",
       "Name: Preco, Length: 1503, dtype: float64"
      ]
     },
     "execution_count": 160,
     "metadata": {},
     "output_type": "execute_result"
    }
   ],
   "source": [
    "df.Preco"
   ]
  },
  {
   "cell_type": "code",
   "execution_count": null,
   "id": "caba2ba6",
   "metadata": {},
   "outputs": [],
   "source": [
    "\n",
    "\n",
    "from sklearn.preprocessing import OrdinalEncoder\n",
    "\n",
    "# Make copy to avoid changing original data \n",
    "label_X_train = X_train.copy()\n",
    "label_X_valid = X_valid.copy()\n",
    "\n",
    "# Apply ordinal encoder to each column with categorical data\n",
    "ordinal_encoder = OrdinalEncoder()\n",
    "label_X_train[object_cols] = ordinal_encoder.fit_transform(X_train[object_cols])\n",
    "label_X_valid[object_cols] = ordinal_encoder.transform(X_valid[object_cols])\n",
    "\n",
    "print(\"MAE from Approach 2 (Ordinal Encoding):\") \n",
    "print(score_dataset(label_X_train, label_X_valid, y_train, y_valid))\n",
    "\n"
   ]
  },
  {
   "cell_type": "code",
   "execution_count": null,
   "id": "54849a09",
   "metadata": {},
   "outputs": [],
   "source": []
  },
  {
   "cell_type": "markdown",
   "id": "466a3fbe",
   "metadata": {},
   "source": []
  },
  {
   "cell_type": "code",
   "execution_count": null,
   "id": "93160552",
   "metadata": {},
   "outputs": [],
   "source": []
  },
  {
   "cell_type": "code",
   "execution_count": null,
   "id": "03a26c61",
   "metadata": {},
   "outputs": [],
   "source": []
  }
 ],
 "metadata": {
  "kernelspec": {
   "display_name": "Python 3",
   "language": "python",
   "name": "python3"
  },
  "language_info": {
   "codemirror_mode": {
    "name": "ipython",
    "version": 3
   },
   "file_extension": ".py",
   "mimetype": "text/x-python",
   "name": "python",
   "nbconvert_exporter": "python",
   "pygments_lexer": "ipython3",
   "version": "3.9.5"
  }
 },
 "nbformat": 4,
 "nbformat_minor": 5
}
