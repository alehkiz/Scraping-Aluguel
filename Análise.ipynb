{
 "cells": [
  {
   "cell_type": "code",
   "execution_count": 1,
   "id": "4c5ad882",
   "metadata": {},
   "outputs": [],
   "source": [
    "import pandas as pd\n",
    "import numpy as np\n",
    "from sklearn.preprocessing import OrdinalEncoder, MinMaxScaler\n",
    "from sklearn.linear_model import LinearRegression\n",
    "from sklearn.metrics import mean_absolute_percentage_error as mape, mean_absolute_error as mae\n",
    "from sklearn.model_selection import cross_val_score, KFold, train_test_split, GridSearchCV\n",
    "from scipy.stats import norm, probplot\n",
    "from sklearn.model_selection import cross_val_score\n",
    "from sklearn.ensemble import RandomForestRegressor\n",
    "from sklearn.pipeline import Pipeline\n",
    "from sklearn.impute import SimpleImputer\n",
    "\n",
    "import seaborn as sns\n",
    "import matplotlib.pyplot as plt"
   ]
  },
  {
   "cell_type": "code",
   "execution_count": 2,
   "id": "2eb1910d",
   "metadata": {},
   "outputs": [],
   "source": [
    "def score_(X_train, X_valid, y_train, y_valid):\n",
    "    '''\n",
    "    Score model with Mean Absolute Error\n",
    "    '''\n",
    "    model = LinearRegression(n_jobs=5)\n",
    "    model.fit(X_train, y_train)\n",
    "    preds = model.predict(X_valid)\n",
    "    return mae(y_valid, preds)"
   ]
  },
  {
   "cell_type": "code",
   "execution_count": 5,
   "id": "b721f397",
   "metadata": {},
   "outputs": [
    {
     "data": {
      "text/html": [
       "<div>\n",
       "<style scoped>\n",
       "    .dataframe tbody tr th:only-of-type {\n",
       "        vertical-align: middle;\n",
       "    }\n",
       "\n",
       "    .dataframe tbody tr th {\n",
       "        vertical-align: top;\n",
       "    }\n",
       "\n",
       "    .dataframe thead th {\n",
       "        text-align: right;\n",
       "    }\n",
       "</style>\n",
       "<table border=\"1\" class=\"dataframe\">\n",
       "  <thead>\n",
       "    <tr style=\"text-align: right;\">\n",
       "      <th></th>\n",
       "      <th>address</th>\n",
       "      <th>url</th>\n",
       "      <th>bedrooms</th>\n",
       "      <th>bathrooms</th>\n",
       "      <th>parking</th>\n",
       "      <th>amenities</th>\n",
       "      <th>title</th>\n",
       "      <th>rent</th>\n",
       "      <th>Condomínio</th>\n",
       "      <th>Preço c/ condomínio</th>\n",
       "      <th>IPTU</th>\n",
       "      <th>geocode</th>\n",
       "      <th>suburb</th>\n",
       "      <th>city_district</th>\n",
       "      <th>address_class</th>\n",
       "      <th>postcode</th>\n",
       "      <th>area</th>\n",
       "      <th>type</th>\n",
       "    </tr>\n",
       "  </thead>\n",
       "  <tbody>\n",
       "    <tr>\n",
       "      <th>0</th>\n",
       "      <td>Avenida Doutor Mário Vilas Boas Rodrigues, 175...</td>\n",
       "      <td>https://www.vivareal.com.br/imovel/apartamento...</td>\n",
       "      <td>2.0</td>\n",
       "      <td>21</td>\n",
       "      <td>1.0</td>\n",
       "      <td>['Academia', 'Ar-condicionado', 'Churrasqueira...</td>\n",
       "      <td>Apartamento com 2 Quartos e 2 banheiros para...</td>\n",
       "      <td>3900.0</td>\n",
       "      <td>746</td>\n",
       "      <td>4646</td>\n",
       "      <td>225</td>\n",
       "      <td>Avenida Doutor Mário Vilas Boas Rodrigues, San...</td>\n",
       "      <td>NaN</td>\n",
       "      <td>Santo Amaro</td>\n",
       "      <td>0.0</td>\n",
       "      <td>04757-000</td>\n",
       "      <td>80.0</td>\n",
       "      <td>Aluguel</td>\n",
       "    </tr>\n",
       "    <tr>\n",
       "      <th>1</th>\n",
       "      <td>Rua Fulgêncio Vertello - Cidade Dutra, São Pau...</td>\n",
       "      <td>https://www.vivareal.com.br/imovel/sobrado-1-q...</td>\n",
       "      <td>1.0</td>\n",
       "      <td>1</td>\n",
       "      <td>NaN</td>\n",
       "      <td>[]</td>\n",
       "      <td>Sobrado com 1 Quarto e 1 banheiro para Aluga...</td>\n",
       "      <td>900.0</td>\n",
       "      <td>0</td>\n",
       "      <td>0</td>\n",
       "      <td>0</td>\n",
       "      <td>Rua Fulgêncio Vertello, Cidade Dutra, São Paul...</td>\n",
       "      <td>Cidade Dutra</td>\n",
       "      <td>NaN</td>\n",
       "      <td>0.0</td>\n",
       "      <td>04823-280</td>\n",
       "      <td>40.0</td>\n",
       "      <td>Aluguel</td>\n",
       "    </tr>\n",
       "    <tr>\n",
       "      <th>2</th>\n",
       "      <td>Mirandópolis, São Paulo - SP</td>\n",
       "      <td>https://www.vivareal.com.br/imovel/apartamento...</td>\n",
       "      <td>1.0</td>\n",
       "      <td>1</td>\n",
       "      <td>1.0</td>\n",
       "      <td>['Academia', 'Churrasqueira', 'Piscina']</td>\n",
       "      <td>Apartamento com 1 Quarto e 1 banheiro para A...</td>\n",
       "      <td>2500.0</td>\n",
       "      <td>726</td>\n",
       "      <td>3226</td>\n",
       "      <td>0</td>\n",
       "      <td>Mirandópolis, Região Imediata de Andradina, Re...</td>\n",
       "      <td>NaN</td>\n",
       "      <td>NaN</td>\n",
       "      <td>0.0</td>\n",
       "      <td>16800-000</td>\n",
       "      <td>38.0</td>\n",
       "      <td>Aluguel</td>\n",
       "    </tr>\n",
       "    <tr>\n",
       "      <th>3</th>\n",
       "      <td>Rua dos Estudantes, 357 - Sé, São Paulo - SP</td>\n",
       "      <td>https://www.vivareal.com.br/imovel/apartamento...</td>\n",
       "      <td>1.0</td>\n",
       "      <td>11</td>\n",
       "      <td>NaN</td>\n",
       "      <td>['Academia', 'Aceita animais', 'Bicicletário',...</td>\n",
       "      <td>Apartamento com 1 Quarto e 1 banheiro para A...</td>\n",
       "      <td>1700.0</td>\n",
       "      <td>350</td>\n",
       "      <td>2050</td>\n",
       "      <td>0</td>\n",
       "      <td>Rua dos Estudantes, Itaim Paulista, São Paulo,...</td>\n",
       "      <td>Itaim Paulista</td>\n",
       "      <td>NaN</td>\n",
       "      <td>0.0</td>\n",
       "      <td>08541-310</td>\n",
       "      <td>27.0</td>\n",
       "      <td>Não informado</td>\n",
       "    </tr>\n",
       "    <tr>\n",
       "      <th>4</th>\n",
       "      <td>Alameda Itu, 78 - Jardins, São Paulo - SP</td>\n",
       "      <td>https://www.vivareal.com.br/imovel/apartamento...</td>\n",
       "      <td>1.0</td>\n",
       "      <td>11</td>\n",
       "      <td>1.0</td>\n",
       "      <td>['Academia', 'Aceita animais', 'Acesso para de...</td>\n",
       "      <td>Apartamento com 1 Quarto e 1 banheiro para A...</td>\n",
       "      <td>3500.0</td>\n",
       "      <td>706</td>\n",
       "      <td>4206</td>\n",
       "      <td>296</td>\n",
       "      <td>NaN</td>\n",
       "      <td>Jardim Paulista</td>\n",
       "      <td>NaN</td>\n",
       "      <td>NaN</td>\n",
       "      <td>01421-000</td>\n",
       "      <td>45.0</td>\n",
       "      <td>Aluguel</td>\n",
       "    </tr>\n",
       "  </tbody>\n",
       "</table>\n",
       "</div>"
      ],
      "text/plain": [
       "                                             address  \\\n",
       "0  Avenida Doutor Mário Vilas Boas Rodrigues, 175...   \n",
       "1  Rua Fulgêncio Vertello - Cidade Dutra, São Pau...   \n",
       "2                       Mirandópolis, São Paulo - SP   \n",
       "3       Rua dos Estudantes, 357 - Sé, São Paulo - SP   \n",
       "4          Alameda Itu, 78 - Jardins, São Paulo - SP   \n",
       "\n",
       "                                                 url  bedrooms  bathrooms  \\\n",
       "0  https://www.vivareal.com.br/imovel/apartamento...       2.0         21   \n",
       "1  https://www.vivareal.com.br/imovel/sobrado-1-q...       1.0          1   \n",
       "2  https://www.vivareal.com.br/imovel/apartamento...       1.0          1   \n",
       "3  https://www.vivareal.com.br/imovel/apartamento...       1.0         11   \n",
       "4  https://www.vivareal.com.br/imovel/apartamento...       1.0         11   \n",
       "\n",
       "   parking                                          amenities  \\\n",
       "0      1.0  ['Academia', 'Ar-condicionado', 'Churrasqueira...   \n",
       "1      NaN                                                 []   \n",
       "2      1.0           ['Academia', 'Churrasqueira', 'Piscina']   \n",
       "3      NaN  ['Academia', 'Aceita animais', 'Bicicletário',...   \n",
       "4      1.0  ['Academia', 'Aceita animais', 'Acesso para de...   \n",
       "\n",
       "                                               title    rent  Condomínio  \\\n",
       "0    Apartamento com 2 Quartos e 2 banheiros para...  3900.0         746   \n",
       "1    Sobrado com 1 Quarto e 1 banheiro para Aluga...   900.0           0   \n",
       "2    Apartamento com 1 Quarto e 1 banheiro para A...  2500.0         726   \n",
       "3    Apartamento com 1 Quarto e 1 banheiro para A...  1700.0         350   \n",
       "4    Apartamento com 1 Quarto e 1 banheiro para A...  3500.0         706   \n",
       "\n",
       "   Preço c/ condomínio  IPTU  \\\n",
       "0                 4646   225   \n",
       "1                    0     0   \n",
       "2                 3226     0   \n",
       "3                 2050     0   \n",
       "4                 4206   296   \n",
       "\n",
       "                                             geocode           suburb  \\\n",
       "0  Avenida Doutor Mário Vilas Boas Rodrigues, San...              NaN   \n",
       "1  Rua Fulgêncio Vertello, Cidade Dutra, São Paul...     Cidade Dutra   \n",
       "2  Mirandópolis, Região Imediata de Andradina, Re...              NaN   \n",
       "3  Rua dos Estudantes, Itaim Paulista, São Paulo,...   Itaim Paulista   \n",
       "4                                                NaN  Jardim Paulista   \n",
       "\n",
       "  city_district  address_class   postcode  area           type  \n",
       "0   Santo Amaro            0.0  04757-000  80.0     Aluguel     \n",
       "1           NaN            0.0  04823-280  40.0     Aluguel     \n",
       "2           NaN            0.0  16800-000  38.0     Aluguel     \n",
       "3           NaN            0.0  08541-310  27.0  Não informado  \n",
       "4           NaN            NaN  01421-000  45.0     Aluguel     "
      ]
     },
     "execution_count": 5,
     "metadata": {},
     "output_type": "execute_result"
    }
   ],
   "source": [
    "df = pd.read_excel('data/dados.xlsx')\n",
    "df.head()"
   ]
  },
  {
   "cell_type": "code",
   "execution_count": 4,
   "id": "7e48c1b2",
   "metadata": {},
   "outputs": [],
   "source": [
    "# def get_area_type(row):\n",
    "#     _v = df2[df2.url == row.url]\n",
    "#     return _v.loc[_v.index[0], ['area', 'type']]"
   ]
  },
  {
   "cell_type": "code",
   "execution_count": 6,
   "id": "e5be2c73",
   "metadata": {},
   "outputs": [],
   "source": [
    "df['ID'] = df.url.map(lambda x : x.rsplit('-')[-1].replace('/', ''))"
   ]
  },
  {
   "cell_type": "code",
   "execution_count": 7,
   "id": "96bfd54c",
   "metadata": {},
   "outputs": [],
   "source": [
    "#removendo colunas desnecessárias\n",
    "df.drop(columns=['address', 'amenities', 'title', 'address_class', 'url', 'geocode'], inplace=True)"
   ]
  },
  {
   "cell_type": "markdown",
   "id": "6a5ff5c4",
   "metadata": {},
   "source": [
    "Quais são os dados nulos?"
   ]
  },
  {
   "cell_type": "code",
   "execution_count": 8,
   "id": "22742387",
   "metadata": {},
   "outputs": [
    {
     "data": {
      "text/plain": [
       "bathrooms                 0\n",
       "Condomínio                0\n",
       "Preço c/ condomínio       0\n",
       "IPTU                      0\n",
       "type                      0\n",
       "ID                        0\n",
       "postcode                188\n",
       "rent                    260\n",
       "area                    260\n",
       "bedrooms                324\n",
       "suburb                  407\n",
       "parking                 607\n",
       "city_district          1031\n",
       "dtype: int64"
      ]
     },
     "execution_count": 8,
     "metadata": {},
     "output_type": "execute_result"
    }
   ],
   "source": [
    "df.isna().sum().sort_values()"
   ]
  },
  {
   "cell_type": "code",
   "execution_count": 9,
   "id": "934122f5",
   "metadata": {},
   "outputs": [],
   "source": [
    "def trata_bairro(row):\n",
    "    '''\n",
    "    Função para retornar o campo bairro.\n",
    "    '''\n",
    "    if pd.isna(row['suburb']) and pd.isna(row['city_district']):\n",
    "        return np.nan\n",
    "    if not pd.isna(row['suburb']):\n",
    "        return row['suburb']\n",
    "    elif not pd.isna(row['city_district']):\n",
    "        return row['city_district']\n",
    "    return 'Analisar'\n",
    "#     elif row['suburb'] == row['city_district']:\n",
    "#         return row['city_district']\n",
    "#     else: \n",
    "#         return 'Diferente'"
   ]
  },
  {
   "cell_type": "code",
   "execution_count": 10,
   "id": "9300ec85",
   "metadata": {},
   "outputs": [],
   "source": [
    "df['bairro'] = df.apply(trata_bairro, axis=1)"
   ]
  },
  {
   "cell_type": "markdown",
   "id": "e2b3d904",
   "metadata": {},
   "source": [
    "Quais os registros sem bairro?"
   ]
  },
  {
   "cell_type": "code",
   "execution_count": 11,
   "id": "77bb314a",
   "metadata": {},
   "outputs": [
    {
     "data": {
      "text/html": [
       "<div>\n",
       "<style scoped>\n",
       "    .dataframe tbody tr th:only-of-type {\n",
       "        vertical-align: middle;\n",
       "    }\n",
       "\n",
       "    .dataframe tbody tr th {\n",
       "        vertical-align: top;\n",
       "    }\n",
       "\n",
       "    .dataframe thead th {\n",
       "        text-align: right;\n",
       "    }\n",
       "</style>\n",
       "<table border=\"1\" class=\"dataframe\">\n",
       "  <thead>\n",
       "    <tr style=\"text-align: right;\">\n",
       "      <th></th>\n",
       "      <th>bedrooms</th>\n",
       "      <th>bathrooms</th>\n",
       "      <th>parking</th>\n",
       "      <th>rent</th>\n",
       "      <th>Condomínio</th>\n",
       "      <th>Preço c/ condomínio</th>\n",
       "      <th>IPTU</th>\n",
       "      <th>suburb</th>\n",
       "      <th>city_district</th>\n",
       "      <th>postcode</th>\n",
       "      <th>area</th>\n",
       "      <th>type</th>\n",
       "      <th>ID</th>\n",
       "      <th>bairro</th>\n",
       "    </tr>\n",
       "  </thead>\n",
       "  <tbody>\n",
       "  </tbody>\n",
       "</table>\n",
       "</div>"
      ],
      "text/plain": [
       "Empty DataFrame\n",
       "Columns: [bedrooms, bathrooms, parking, rent, Condomínio, Preço c/ condomínio, IPTU, suburb, city_district, postcode, area, type, ID, bairro]\n",
       "Index: []"
      ]
     },
     "execution_count": 11,
     "metadata": {},
     "output_type": "execute_result"
    }
   ],
   "source": [
    "df[df.bairro == 'Analisar']"
   ]
  },
  {
   "cell_type": "code",
   "execution_count": 12,
   "id": "e382555b",
   "metadata": {},
   "outputs": [
    {
     "data": {
      "text/plain": [
       "323"
      ]
     },
     "execution_count": 12,
     "metadata": {},
     "output_type": "execute_result"
    }
   ],
   "source": [
    "df.bairro.isna().sum()"
   ]
  },
  {
   "cell_type": "markdown",
   "id": "a57c2222",
   "metadata": {},
   "source": [
    "Vamos remover os registros que não tenham valores na coluna bairro"
   ]
  },
  {
   "cell_type": "code",
   "execution_count": 13,
   "id": "7d456174",
   "metadata": {},
   "outputs": [],
   "source": [
    "df.dropna(subset=['bairro'], inplace=True)"
   ]
  },
  {
   "cell_type": "markdown",
   "id": "2cf4f1c4",
   "metadata": {},
   "source": [
    "Não precisamos mais das colunas `suburb` e `city_district` e `postcode` (talvez retornemos com o postcode)"
   ]
  },
  {
   "cell_type": "code",
   "execution_count": 14,
   "id": "a30040fc",
   "metadata": {},
   "outputs": [],
   "source": [
    "df.drop(columns=['suburb', 'city_district', 'postcode'], inplace=True)"
   ]
  },
  {
   "cell_type": "markdown",
   "id": "301401bf",
   "metadata": {},
   "source": [
    "O Valor do `aluguel` + `Condomínio` é examtanet o valor do proço total? Sim!!"
   ]
  },
  {
   "cell_type": "code",
   "execution_count": 15,
   "id": "23a8f18f",
   "metadata": {},
   "outputs": [],
   "source": [
    "df=df.drop(columns=['Preço c/ condomínio','IPTU','Condomínio']).rename({\n",
    "    'bedrooms':'Quartos',\n",
    "    'bathrooms':'Banheiros',\n",
    "    'rent':'Preco',\n",
    "    'bairro':'Bairro',\n",
    "    'parking': 'Estacionamento'\n",
    "}, axis=1) #[~((df['rent'].astype(int) + df['Condomínio'].astype(int)) == df['Preço c/ condomínio'].astype(int))]"
   ]
  },
  {
   "cell_type": "code",
   "execution_count": 16,
   "id": "6b2f72e0",
   "metadata": {},
   "outputs": [],
   "source": [
    "df.Quartos = df.Quartos.fillna(0).astype(int)"
   ]
  },
  {
   "cell_type": "code",
   "execution_count": 17,
   "id": "1e1f531e",
   "metadata": {},
   "outputs": [],
   "source": [
    "df.Estacionamento = df.Estacionamento.fillna(0)"
   ]
  },
  {
   "cell_type": "markdown",
   "id": "65cd78c4",
   "metadata": {},
   "source": [
    "Valores nulos?"
   ]
  },
  {
   "cell_type": "code",
   "execution_count": 18,
   "id": "b2a836ac",
   "metadata": {},
   "outputs": [
    {
     "data": {
      "text/plain": [
       "Quartos           0\n",
       "Banheiros         0\n",
       "Estacionamento    0\n",
       "Preco             0\n",
       "area              0\n",
       "type              0\n",
       "ID                0\n",
       "Bairro            0\n",
       "dtype: int64"
      ]
     },
     "execution_count": 18,
     "metadata": {},
     "output_type": "execute_result"
    }
   ],
   "source": [
    "df.isna().sum()"
   ]
  },
  {
   "cell_type": "code",
   "execution_count": 19,
   "id": "49e6f639",
   "metadata": {},
   "outputs": [],
   "source": [
    "df.reset_index(drop=True, inplace=True)"
   ]
  },
  {
   "cell_type": "code",
   "execution_count": 20,
   "id": "6ec8b683",
   "metadata": {},
   "outputs": [],
   "source": [
    "df.type = df.type.str.strip()"
   ]
  },
  {
   "cell_type": "code",
   "execution_count": 25,
   "id": "6647d956",
   "metadata": {},
   "outputs": [
    {
     "data": {
      "text/plain": [
       "33409.75475923852"
      ]
     },
     "execution_count": 25,
     "metadata": {},
     "output_type": "execute_result"
    }
   ],
   "source": [
    "df[df.type == 'Aluguel'].Preco.mean()"
   ]
  },
  {
   "cell_type": "code",
   "execution_count": 26,
   "id": "8e72cbfc",
   "metadata": {},
   "outputs": [
    {
     "data": {
      "text/plain": [
       "2500.0"
      ]
     },
     "execution_count": 26,
     "metadata": {},
     "output_type": "execute_result"
    }
   ],
   "source": [
    "df[df.type == 'Aluguel'].Preco.median()"
   ]
  },
  {
   "cell_type": "code",
   "execution_count": 23,
   "id": "a34fc77e",
   "metadata": {},
   "outputs": [
    {
     "data": {
      "text/html": [
       "<div>\n",
       "<style scoped>\n",
       "    .dataframe tbody tr th:only-of-type {\n",
       "        vertical-align: middle;\n",
       "    }\n",
       "\n",
       "    .dataframe tbody tr th {\n",
       "        vertical-align: top;\n",
       "    }\n",
       "\n",
       "    .dataframe thead th {\n",
       "        text-align: right;\n",
       "    }\n",
       "</style>\n",
       "<table border=\"1\" class=\"dataframe\">\n",
       "  <thead>\n",
       "    <tr style=\"text-align: right;\">\n",
       "      <th></th>\n",
       "      <th>type</th>\n",
       "      <th>ID</th>\n",
       "    </tr>\n",
       "  </thead>\n",
       "  <tbody>\n",
       "    <tr>\n",
       "      <th>0</th>\n",
       "      <td>Aluguel</td>\n",
       "      <td>893</td>\n",
       "    </tr>\n",
       "    <tr>\n",
       "      <th>1</th>\n",
       "      <td>Compra</td>\n",
       "      <td>214</td>\n",
       "    </tr>\n",
       "    <tr>\n",
       "      <th>2</th>\n",
       "      <td>Não informado</td>\n",
       "      <td>396</td>\n",
       "    </tr>\n",
       "  </tbody>\n",
       "</table>\n",
       "</div>"
      ],
      "text/plain": [
       "            type   ID\n",
       "0        Aluguel  893\n",
       "1         Compra  214\n",
       "2  Não informado  396"
      ]
     },
     "execution_count": 23,
     "metadata": {},
     "output_type": "execute_result"
    }
   ],
   "source": [
    "df.groupby(['type'], as_index=False).ID.count()"
   ]
  },
  {
   "cell_type": "code",
   "execution_count": 27,
   "id": "3e12ee06",
   "metadata": {},
   "outputs": [],
   "source": [
    "df = df[df.type == 'Aluguel']"
   ]
  },
  {
   "cell_type": "code",
   "execution_count": null,
   "id": "ed260b5f",
   "metadata": {},
   "outputs": [],
   "source": []
  },
  {
   "cell_type": "markdown",
   "id": "13f0999b",
   "metadata": {},
   "source": [
    "Removendo os outliers"
   ]
  },
  {
   "cell_type": "code",
   "execution_count": 33,
   "id": "53ffee70",
   "metadata": {},
   "outputs": [],
   "source": [
    "df= df[df.Preco < 50000].reset_index(drop=True)#.sort_values(by=['Preco'], ascending=False)\n",
    "df = df[df.Quartos < 6]"
   ]
  },
  {
   "cell_type": "code",
   "execution_count": 34,
   "id": "d88bb20e",
   "metadata": {},
   "outputs": [
    {
     "data": {
      "image/png": "[encoded data removed]",
      "text/plain": [
       "<Figure size 432x288 with 1 Axes>"
      ]
     },
     "metadata": {
      "needs_background": "light"
     },
     "output_type": "display_data"
    }
   ],
   "source": [
    "fig, ax= plt.subplots()\n",
    "ax.scatter(x=df['Quartos'], y=np.log(df['Preco']))\n",
    "plt.ylabel('Preço')\n",
    "plt.xlabel('Quartos')\n",
    "plt.title(\"Preço X Quantidade de Quartos\")\n",
    "plt.show()"
   ]
  },
  {
   "cell_type": "code",
   "execution_count": 35,
   "id": "b79bc6da",
   "metadata": {},
   "outputs": [
    {
     "name": "stderr",
     "output_type": "stream",
     "text": [
      "C:\\Users\\Alexandre\\anaconda3\\lib\\site-packages\\seaborn\\distributions.py:2619: FutureWarning: `distplot` is a deprecated function and will be removed in a future version. Please adapt your code to use either `displot` (a figure-level function with similar flexibility) or `histplot` (an axes-level function for histograms).\n",
      "  warnings.warn(msg, FutureWarning)\n"
     ]
    },
    {
     "data": {
      "image/png": "[encoded data removed]",
      "text/plain": [
       "<Figure size 432x288 with 1 Axes>"
      ]
     },
     "metadata": {
      "needs_background": "light"
     },
     "output_type": "display_data"
    }
   ],
   "source": [
    "sns.distplot(df.Preco, fit=norm)\n",
    "plt.xlabel('Preço Imóvel')\n",
    "plt.ylabel('Quantidade de Imóveis')\n",
    "plt.title('Distribuição do preço')\n",
    "plt.show()"
   ]
  },
  {
   "cell_type": "markdown",
   "id": "ae8d9dbc",
   "metadata": {},
   "source": [
    "Vamos ajustar o preço para uma distribuição `normal`"
   ]
  },
  {
   "cell_type": "code",
   "execution_count": 36,
   "id": "f1d700b8",
   "metadata": {},
   "outputs": [
    {
     "name": "stderr",
     "output_type": "stream",
     "text": [
      "C:\\Users\\Alexandre\\anaconda3\\lib\\site-packages\\seaborn\\distributions.py:2619: FutureWarning: `distplot` is a deprecated function and will be removed in a future version. Please adapt your code to use either `displot` (a figure-level function with similar flexibility) or `histplot` (an axes-level function for histograms).\n",
      "  warnings.warn(msg, FutureWarning)\n"
     ]
    },
    {
     "data": {
      "image/png": "[encoded data removed]",
      "text/plain": [
       "<Figure size 432x288 with 1 Axes>"
      ]
     },
     "metadata": {
      "needs_background": "light"
     },
     "output_type": "display_data"
    }
   ],
   "source": [
    "sns.distplot(np.log(df.Preco), fit=norm)\n",
    "plt.xlabel('Preço Imóvel')\n",
    "plt.ylabel('Quantidade de Imóveis')\n",
    "plt.title('Normalizando o preço com o log')\n",
    "plt.show()"
   ]
  },
  {
   "cell_type": "code",
   "execution_count": 37,
   "id": "a141c47c",
   "metadata": {},
   "outputs": [],
   "source": [
    "df.Preco = np.log(df.Preco)"
   ]
  },
  {
   "cell_type": "code",
   "execution_count": 38,
   "id": "dcdb7b91",
   "metadata": {},
   "outputs": [],
   "source": [
    "df.Bairro = df.Bairro.astype(\"category\")"
   ]
  },
  {
   "cell_type": "code",
   "execution_count": 39,
   "id": "dd0b60bd",
   "metadata": {},
   "outputs": [],
   "source": [
    "X = df.drop(columns=['Preco', 'type', 'ID'])\n",
    "y = df['Preco']"
   ]
  },
  {
   "cell_type": "code",
   "execution_count": 40,
   "id": "caba2ba6",
   "metadata": {},
   "outputs": [
    {
     "name": "stdout",
     "output_type": "stream",
     "text": [
      "Mean Absolute Error com OrdinalEnconder:\n",
      "0.3738084455458484\n"
     ]
    }
   ],
   "source": [
    "# Vamos criar nossa base de treino e teste\n",
    "X_train, X_test, y_train, y_test = train_test_split(X, y, test_size=0.4, random_state=42)\n",
    "# Vamos criar uma cópia para evitar alterações\n",
    "label_X_train = X_train.copy()\n",
    "label_X_test = X_test.copy()\n",
    "\n",
    "# Vamos aplicar o OrdinarEnconder para a coluna categoria, que no caso é apenas o bairro\n",
    "ordinal_encoder = OrdinalEncoder(handle_unknown='use_encoded_value', unknown_value=-1)\n",
    "\n",
    "label_X_train[['Bairro']] = ordinal_encoder.fit_transform(X_train[['Bairro']])\n",
    "label_X_test[['Bairro']] = ordinal_encoder.transform(X_test[['Bairro']])\n",
    "\n",
    "print(\"Mean Absolute Error com OrdinalEnconder:\") \n",
    "print(score_(label_X_train, label_X_test, y_train, y_test))"
   ]
  },
  {
   "cell_type": "code",
   "execution_count": 41,
   "id": "b9418118",
   "metadata": {
    "scrolled": false
   },
   "outputs": [
    {
     "data": {
      "text/plain": [
       "array([-10.89364946, -14.18729023, -15.38429792, -14.16738217,\n",
       "       -17.43639194])"
      ]
     },
     "execution_count": 41,
     "metadata": {},
     "output_type": "execute_result"
    }
   ],
   "source": [
    "scores = cross_val_score(LinearRegression(fit_intercept=False, n_jobs=1, positive=True), label_X_train, y_train, cv=5)\n",
    "scores"
   ]
  },
  {
   "cell_type": "code",
   "execution_count": 42,
   "id": "7d251f62",
   "metadata": {},
   "outputs": [
    {
     "data": {
      "text/plain": [
       "array([0.36943809, 0.38601622, 0.37913294, 0.38107659, 0.39503658])"
      ]
     },
     "execution_count": 42,
     "metadata": {},
     "output_type": "execute_result"
    }
   ],
   "source": [
    "\n",
    "n_estimators = 5\n",
    "pipe = Pipeline(steps=[\n",
    "    #('preprocessor', SimpleImputer()),\n",
    "    (\"normalizacao\", MinMaxScaler()),\n",
    "    ('model', LinearRegression(n_jobs=5))\n",
    "])\n",
    "scores = -1 * cross_val_score(pipe, label_X_train, y_train,\n",
    "                          cv=5,\n",
    "                          scoring='neg_mean_absolute_error')\n",
    "scores"
   ]
  },
  {
   "cell_type": "code",
   "execution_count": 43,
   "id": "e42a877e",
   "metadata": {},
   "outputs": [
    {
     "data": {
      "text/plain": [
       "dict_keys(['mean_fit_time', 'std_fit_time', 'mean_score_time', 'std_score_time', 'param_fit_intercept', 'param_n_jobs', 'param_positive', 'params', 'split0_test_score', 'split1_test_score', 'split2_test_score', 'split3_test_score', 'split4_test_score', 'mean_test_score', 'std_test_score', 'rank_test_score'])"
      ]
     },
     "execution_count": 43,
     "metadata": {},
     "output_type": "execute_result"
    }
   ],
   "source": [
    "clf = GridSearchCV(LinearRegression(), {'positive': [True, False],'fit_intercept':[True, False], 'n_jobs': [1,3,5,7,10,15,20,30,40,60,100]})\n",
    "clf.fit(label_X_train, y_train)\n",
    "clf.cv_results_.keys()"
   ]
  },
  {
   "cell_type": "code",
   "execution_count": 44,
   "id": "09afd076",
   "metadata": {},
   "outputs": [
    {
     "data": {
      "text/html": [
       "<style>#sk-container-id-1 {color: black;background-color: white;}#sk-container-id-1 pre{padding: 0;}#sk-container-id-1 div.sk-toggleable {background-color: white;}#sk-container-id-1 label.sk-toggleable__label {cursor: pointer;display: block;width: 100%;margin-bottom: 0;padding: 0.3em;box-sizing: border-box;text-align: center;}#sk-container-id-1 label.sk-toggleable__label-arrow:before {content: \"▸\";float: left;margin-right: 0.25em;color: #696969;}#sk-container-id-1 label.sk-toggleable__label-arrow:hover:before {color: black;}#sk-container-id-1 div.sk-estimator:hover label.sk-toggleable__label-arrow:before {color: black;}#sk-container-id-1 div.sk-toggleable__content {max-height: 0;max-width: 0;overflow: hidden;text-align: left;background-color: #f0f8ff;}#sk-container-id-1 div.sk-toggleable__content pre {margin: 0.2em;color: black;border-radius: 0.25em;background-color: #f0f8ff;}#sk-container-id-1 input.sk-toggleable__control:checked~div.sk-toggleable__content {max-height: 200px;max-width: 100%;overflow: auto;}#sk-container-id-1 input.sk-toggleable__control:checked~label.sk-toggleable__label-arrow:before {content: \"▾\";}#sk-container-id-1 div.sk-estimator input.sk-toggleable__control:checked~label.sk-toggleable__label {background-color: #d4ebff;}#sk-container-id-1 div.sk-label input.sk-toggleable__control:checked~label.sk-toggleable__label {background-color: #d4ebff;}#sk-container-id-1 input.sk-hidden--visually {border: 0;clip: rect(1px 1px 1px 1px);clip: rect(1px, 1px, 1px, 1px);height: 1px;margin: -1px;overflow: hidden;padding: 0;position: absolute;width: 1px;}#sk-container-id-1 div.sk-estimator {font-family: monospace;background-color: #f0f8ff;border: 1px dotted black;border-radius: 0.25em;box-sizing: border-box;margin-bottom: 0.5em;}#sk-container-id-1 div.sk-estimator:hover {background-color: #d4ebff;}#sk-container-id-1 div.sk-parallel-item::after {content: \"\";width: 100%;border-bottom: 1px solid gray;flex-grow: 1;}#sk-container-id-1 div.sk-label:hover label.sk-toggleable__label {background-color: #d4ebff;}#sk-container-id-1 div.sk-serial::before {content: \"\";position: absolute;border-left: 1px solid gray;box-sizing: border-box;top: 0;bottom: 0;left: 50%;z-index: 0;}#sk-container-id-1 div.sk-serial {display: flex;flex-direction: column;align-items: center;background-color: white;padding-right: 0.2em;padding-left: 0.2em;position: relative;}#sk-container-id-1 div.sk-item {position: relative;z-index: 1;}#sk-container-id-1 div.sk-parallel {display: flex;align-items: stretch;justify-content: center;background-color: white;position: relative;}#sk-container-id-1 div.sk-item::before, #sk-container-id-1 div.sk-parallel-item::before {content: \"\";position: absolute;border-left: 1px solid gray;box-sizing: border-box;top: 0;bottom: 0;left: 50%;z-index: -1;}#sk-container-id-1 div.sk-parallel-item {display: flex;flex-direction: column;z-index: 1;position: relative;background-color: white;}#sk-container-id-1 div.sk-parallel-item:first-child::after {align-self: flex-end;width: 50%;}#sk-container-id-1 div.sk-parallel-item:last-child::after {align-self: flex-start;width: 50%;}#sk-container-id-1 div.sk-parallel-item:only-child::after {width: 0;}#sk-container-id-1 div.sk-dashed-wrapped {border: 1px dashed gray;margin: 0 0.4em 0.5em 0.4em;box-sizing: border-box;padding-bottom: 0.4em;background-color: white;}#sk-container-id-1 div.sk-label label {font-family: monospace;font-weight: bold;display: inline-block;line-height: 1.2em;}#sk-container-id-1 div.sk-label-container {text-align: center;}#sk-container-id-1 div.sk-container {/* jupyter's `normalize.less` sets `[hidden] { display: none; }` but bootstrap.min.css set `[hidden] { display: none !important; }` so we also need the `!important` here to be able to override the default hidden behavior on the sphinx rendered scikit-learn.org. See: https://github.com/scikit-learn/scikit-learn/issues/21755 */display: inline-block !important;position: relative;}#sk-container-id-1 div.sk-text-repr-fallback {display: none;}</style><div id=\"sk-container-id-1\" class=\"sk-top-container\"><div class=\"sk-text-repr-fallback\"><pre>LinearRegression(n_jobs=1, positive=True)</pre><b>In a Jupyter environment, please rerun this cell to show the HTML representation or trust the notebook. <br />On GitHub, the HTML representation is unable to render, please try loading this page with nbviewer.org.</b></div><div class=\"sk-container\" hidden><div class=\"sk-item\"><div class=\"sk-estimator sk-toggleable\"><input class=\"sk-toggleable__control sk-hidden--visually\" id=\"sk-estimator-id-1\" type=\"checkbox\" checked><label for=\"sk-estimator-id-1\" class=\"sk-toggleable__label sk-toggleable__label-arrow\">LinearRegression</label><div class=\"sk-toggleable__content\"><pre>LinearRegression(n_jobs=1, positive=True)</pre></div></div></div></div></div>"
      ],
      "text/plain": [
       "LinearRegression(n_jobs=1, positive=True)"
      ]
     },
     "execution_count": 44,
     "metadata": {},
     "output_type": "execute_result"
    }
   ],
   "source": [
    "clf.best_estimator_"
   ]
  },
  {
   "cell_type": "code",
   "execution_count": 45,
   "id": "96caafb0",
   "metadata": {},
   "outputs": [
    {
     "name": "stderr",
     "output_type": "stream",
     "text": [
      "C:\\Users\\Alexandre\\anaconda3\\lib\\site-packages\\sklearn\\model_selection\\_validation.py:378: FitFailedWarning: \n",
      "660 fits failed out of a total of 900.\n",
      "The score on these train-test partitions for these parameters will be set to nan.\n",
      "If these failures are not expected, you can try to debug them by setting error_score='raise'.\n",
      "\n",
      "Below are more details about the failures:\n",
      "--------------------------------------------------------------------------------\n",
      "300 fits failed with the following error:\n",
      "Traceback (most recent call last):\n",
      "  File \"C:\\Users\\Alexandre\\anaconda3\\lib\\site-packages\\sklearn\\model_selection\\_validation.py\", line 686, in _fit_and_score\n",
      "    estimator.fit(X_train, y_train, **fit_params)\n",
      "  File \"C:\\Users\\Alexandre\\anaconda3\\lib\\site-packages\\sklearn\\ensemble\\_forest.py\", line 389, in fit\n",
      "    n_samples_bootstrap = _get_n_samples_bootstrap(\n",
      "  File \"C:\\Users\\Alexandre\\anaconda3\\lib\\site-packages\\sklearn\\ensemble\\_forest.py\", line 121, in _get_n_samples_bootstrap\n",
      "    raise ValueError(msg.format(max_samples))\n",
      "ValueError: `max_samples` must be in range (0.0, 1.0] but got value 0.0\n",
      "\n",
      "--------------------------------------------------------------------------------\n",
      "120 fits failed with the following error:\n",
      "Traceback (most recent call last):\n",
      "  File \"C:\\Users\\Alexandre\\anaconda3\\lib\\site-packages\\sklearn\\model_selection\\_validation.py\", line 686, in _fit_and_score\n",
      "    estimator.fit(X_train, y_train, **fit_params)\n",
      "  File \"C:\\Users\\Alexandre\\anaconda3\\lib\\site-packages\\sklearn\\ensemble\\_forest.py\", line 396, in fit\n",
      "    self._validate_estimator()\n",
      "  File \"C:\\Users\\Alexandre\\anaconda3\\lib\\site-packages\\sklearn\\ensemble\\_base.py\", line 143, in _validate_estimator\n",
      "    raise ValueError(\n",
      "ValueError: n_estimators must be greater than zero, got 0.\n",
      "\n",
      "--------------------------------------------------------------------------------\n",
      "160 fits failed with the following error:\n",
      "Traceback (most recent call last):\n",
      "  File \"C:\\Users\\Alexandre\\anaconda3\\lib\\site-packages\\sklearn\\model_selection\\_validation.py\", line 686, in _fit_and_score\n",
      "    estimator.fit(X_train, y_train, **fit_params)\n",
      "  File \"C:\\Users\\Alexandre\\anaconda3\\lib\\site-packages\\sklearn\\ensemble\\_forest.py\", line 476, in fit\n",
      "    trees = Parallel(\n",
      "  File \"C:\\Users\\Alexandre\\anaconda3\\lib\\site-packages\\joblib\\parallel.py\", line 966, in __call__\n",
      "    n_jobs = self._initialize_backend()\n",
      "  File \"C:\\Users\\Alexandre\\anaconda3\\lib\\site-packages\\joblib\\parallel.py\", line 733, in _initialize_backend\n",
      "    n_jobs = self._backend.configure(n_jobs=self.n_jobs, parallel=self,\n",
      "  File \"C:\\Users\\Alexandre\\anaconda3\\lib\\site-packages\\joblib\\_parallel_backends.py\", line 489, in configure\n",
      "    n_jobs = self.effective_n_jobs(n_jobs)\n",
      "  File \"C:\\Users\\Alexandre\\anaconda3\\lib\\site-packages\\joblib\\_parallel_backends.py\", line 504, in effective_n_jobs\n",
      "    raise ValueError('n_jobs == 0 in Parallel has no meaning')\n",
      "ValueError: n_jobs == 0 in Parallel has no meaning\n",
      "\n",
      "--------------------------------------------------------------------------------\n",
      "80 fits failed with the following error:\n",
      "joblib.externals.loky.process_executor._RemoteTraceback: \n",
      "\"\"\"\n",
      "Traceback (most recent call last):\n",
      "  File \"C:\\Users\\Alexandre\\anaconda3\\lib\\site-packages\\joblib\\externals\\loky\\process_executor.py\", line 431, in _process_worker\n",
      "    r = call_item()\n",
      "  File \"C:\\Users\\Alexandre\\anaconda3\\lib\\site-packages\\joblib\\externals\\loky\\process_executor.py\", line 285, in __call__\n",
      "    return self.fn(*self.args, **self.kwargs)\n",
      "  File \"C:\\Users\\Alexandre\\anaconda3\\lib\\site-packages\\joblib\\_parallel_backends.py\", line 595, in __call__\n",
      "    return self.func(*args, **kwargs)\n",
      "  File \"C:\\Users\\Alexandre\\anaconda3\\lib\\site-packages\\joblib\\parallel.py\", line 262, in __call__\n",
      "    return [func(*args, **kwargs)\n",
      "  File \"C:\\Users\\Alexandre\\anaconda3\\lib\\site-packages\\joblib\\parallel.py\", line 262, in <listcomp>\n",
      "    return [func(*args, **kwargs)\n",
      "  File \"C:\\Users\\Alexandre\\anaconda3\\lib\\site-packages\\sklearn\\utils\\fixes.py\", line 117, in __call__\n",
      "    return self.function(*args, **kwargs)\n",
      "  File \"C:\\Users\\Alexandre\\anaconda3\\lib\\site-packages\\sklearn\\ensemble\\_forest.py\", line 189, in _parallel_build_trees\n",
      "    tree.fit(X, y, sample_weight=curr_sample_weight, check_input=False)\n",
      "  File \"C:\\Users\\Alexandre\\anaconda3\\lib\\site-packages\\sklearn\\tree\\_classes.py\", line 1342, in fit\n",
      "    super().fit(\n",
      "  File \"C:\\Users\\Alexandre\\anaconda3\\lib\\site-packages\\sklearn\\tree\\_classes.py\", line 238, in fit\n",
      "    check_scalar(\n",
      "  File \"C:\\Users\\Alexandre\\anaconda3\\lib\\site-packages\\sklearn\\utils\\validation.py\", line 1480, in check_scalar\n",
      "    raise ValueError(\n",
      "ValueError: max_depth == 0, must be >= 1.\n",
      "\"\"\"\n",
      "\n",
      "The above exception was the direct cause of the following exception:\n",
      "\n",
      "Traceback (most recent call last):\n",
      "  File \"C:\\Users\\Alexandre\\anaconda3\\lib\\site-packages\\sklearn\\model_selection\\_validation.py\", line 686, in _fit_and_score\n",
      "    estimator.fit(X_train, y_train, **fit_params)\n",
      "  File \"C:\\Users\\Alexandre\\anaconda3\\lib\\site-packages\\sklearn\\ensemble\\_forest.py\", line 476, in fit\n",
      "    trees = Parallel(\n",
      "  File \"C:\\Users\\Alexandre\\anaconda3\\lib\\site-packages\\joblib\\parallel.py\", line 1054, in __call__\n",
      "    self.retrieve()\n",
      "  File \"C:\\Users\\Alexandre\\anaconda3\\lib\\site-packages\\joblib\\parallel.py\", line 933, in retrieve\n",
      "    self._output.extend(job.get(timeout=self.timeout))\n",
      "  File \"C:\\Users\\Alexandre\\anaconda3\\lib\\site-packages\\joblib\\_parallel_backends.py\", line 542, in wrap_future_result\n",
      "    return future.result(timeout=timeout)\n",
      "  File \"C:\\Users\\Alexandre\\anaconda3\\lib\\concurrent\\futures\\_base.py\", line 445, in result\n",
      "    return self.__get_result()\n",
      "  File \"C:\\Users\\Alexandre\\anaconda3\\lib\\concurrent\\futures\\_base.py\", line 390, in __get_result\n",
      "    raise self._exception\n",
      "ValueError: max_depth == 0, must be >= 1.\n",
      "\n",
      "  warnings.warn(some_fits_failed_message, FitFailedWarning)\n",
      "C:\\Users\\Alexandre\\anaconda3\\lib\\site-packages\\sklearn\\model_selection\\_search.py:953: UserWarning: One or more of the test scores are non-finite: [       nan        nan        nan        nan        nan        nan\n",
      "        nan        nan        nan        nan        nan        nan\n",
      "        nan        nan        nan        nan        nan        nan\n",
      "        nan        nan        nan        nan        nan        nan\n",
      "        nan        nan        nan        nan        nan        nan\n",
      "        nan        nan        nan        nan        nan        nan\n",
      "        nan        nan        nan        nan        nan        nan\n",
      "        nan        nan        nan        nan        nan        nan\n",
      "        nan        nan        nan        nan        nan        nan\n",
      "        nan        nan        nan        nan        nan        nan\n",
      "        nan        nan        nan        nan 0.57059821 0.5786367\n",
      "        nan 0.59358962 0.60224702        nan 0.61664273 0.61894874\n",
      "        nan 0.61404741 0.6116758         nan        nan        nan\n",
      "        nan 0.55987453 0.58090228        nan 0.58924254 0.62427543\n",
      "        nan 0.60765602 0.60578873        nan 0.60535257 0.6103996\n",
      "        nan        nan        nan        nan        nan        nan\n",
      "        nan        nan        nan        nan        nan        nan\n",
      "        nan        nan        nan        nan        nan        nan\n",
      "        nan 0.52536112 0.56318587        nan 0.60019673 0.59782145\n",
      "        nan 0.61548346 0.61150698        nan 0.61870096 0.62083423\n",
      "        nan        nan        nan        nan 0.56724818 0.53244846\n",
      "        nan 0.59729949 0.58758799        nan 0.61897976 0.61168516\n",
      "        nan 0.62594909 0.61925948        nan        nan        nan\n",
      "        nan        nan        nan        nan        nan        nan\n",
      "        nan        nan        nan        nan        nan        nan\n",
      "        nan        nan        nan        nan 0.56763521 0.57824192\n",
      "        nan 0.58819254 0.57940713        nan 0.61900502 0.60055892\n",
      "        nan 0.62812444 0.62543966        nan        nan        nan\n",
      "        nan 0.55706483 0.55178728        nan 0.57905242 0.57962652\n",
      "        nan 0.61763675 0.60618918        nan 0.61782267 0.61503459]\n",
      "  warnings.warn(\n"
     ]
    },
    {
     "data": {
      "text/html": [
       "<style>#sk-container-id-2 {color: black;background-color: white;}#sk-container-id-2 pre{padding: 0;}#sk-container-id-2 div.sk-toggleable {background-color: white;}#sk-container-id-2 label.sk-toggleable__label {cursor: pointer;display: block;width: 100%;margin-bottom: 0;padding: 0.3em;box-sizing: border-box;text-align: center;}#sk-container-id-2 label.sk-toggleable__label-arrow:before {content: \"▸\";float: left;margin-right: 0.25em;color: #696969;}#sk-container-id-2 label.sk-toggleable__label-arrow:hover:before {color: black;}#sk-container-id-2 div.sk-estimator:hover label.sk-toggleable__label-arrow:before {color: black;}#sk-container-id-2 div.sk-toggleable__content {max-height: 0;max-width: 0;overflow: hidden;text-align: left;background-color: #f0f8ff;}#sk-container-id-2 div.sk-toggleable__content pre {margin: 0.2em;color: black;border-radius: 0.25em;background-color: #f0f8ff;}#sk-container-id-2 input.sk-toggleable__control:checked~div.sk-toggleable__content {max-height: 200px;max-width: 100%;overflow: auto;}#sk-container-id-2 input.sk-toggleable__control:checked~label.sk-toggleable__label-arrow:before {content: \"▾\";}#sk-container-id-2 div.sk-estimator input.sk-toggleable__control:checked~label.sk-toggleable__label {background-color: #d4ebff;}#sk-container-id-2 div.sk-label input.sk-toggleable__control:checked~label.sk-toggleable__label {background-color: #d4ebff;}#sk-container-id-2 input.sk-hidden--visually {border: 0;clip: rect(1px 1px 1px 1px);clip: rect(1px, 1px, 1px, 1px);height: 1px;margin: -1px;overflow: hidden;padding: 0;position: absolute;width: 1px;}#sk-container-id-2 div.sk-estimator {font-family: monospace;background-color: #f0f8ff;border: 1px dotted black;border-radius: 0.25em;box-sizing: border-box;margin-bottom: 0.5em;}#sk-container-id-2 div.sk-estimator:hover {background-color: #d4ebff;}#sk-container-id-2 div.sk-parallel-item::after {content: \"\";width: 100%;border-bottom: 1px solid gray;flex-grow: 1;}#sk-container-id-2 div.sk-label:hover label.sk-toggleable__label {background-color: #d4ebff;}#sk-container-id-2 div.sk-serial::before {content: \"\";position: absolute;border-left: 1px solid gray;box-sizing: border-box;top: 0;bottom: 0;left: 50%;z-index: 0;}#sk-container-id-2 div.sk-serial {display: flex;flex-direction: column;align-items: center;background-color: white;padding-right: 0.2em;padding-left: 0.2em;position: relative;}#sk-container-id-2 div.sk-item {position: relative;z-index: 1;}#sk-container-id-2 div.sk-parallel {display: flex;align-items: stretch;justify-content: center;background-color: white;position: relative;}#sk-container-id-2 div.sk-item::before, #sk-container-id-2 div.sk-parallel-item::before {content: \"\";position: absolute;border-left: 1px solid gray;box-sizing: border-box;top: 0;bottom: 0;left: 50%;z-index: -1;}#sk-container-id-2 div.sk-parallel-item {display: flex;flex-direction: column;z-index: 1;position: relative;background-color: white;}#sk-container-id-2 div.sk-parallel-item:first-child::after {align-self: flex-end;width: 50%;}#sk-container-id-2 div.sk-parallel-item:last-child::after {align-self: flex-start;width: 50%;}#sk-container-id-2 div.sk-parallel-item:only-child::after {width: 0;}#sk-container-id-2 div.sk-dashed-wrapped {border: 1px dashed gray;margin: 0 0.4em 0.5em 0.4em;box-sizing: border-box;padding-bottom: 0.4em;background-color: white;}#sk-container-id-2 div.sk-label label {font-family: monospace;font-weight: bold;display: inline-block;line-height: 1.2em;}#sk-container-id-2 div.sk-label-container {text-align: center;}#sk-container-id-2 div.sk-container {/* jupyter's `normalize.less` sets `[hidden] { display: none; }` but bootstrap.min.css set `[hidden] { display: none !important; }` so we also need the `!important` here to be able to override the default hidden behavior on the sphinx rendered scikit-learn.org. See: https://github.com/scikit-learn/scikit-learn/issues/21755 */display: inline-block !important;position: relative;}#sk-container-id-2 div.sk-text-repr-fallback {display: none;}</style><div id=\"sk-container-id-2\" class=\"sk-top-container\"><div class=\"sk-text-repr-fallback\"><pre>GridSearchCV(estimator=RandomForestRegressor(),\n",
       "             param_grid={&#x27;max_depth&#x27;: [0, 4, 7, 10],\n",
       "                         &#x27;max_samples&#x27;: [0.0, 0.4, 0.6],\n",
       "                         &#x27;n_estimators&#x27;: [0, 5, 10, 50, 100],\n",
       "                         &#x27;n_jobs&#x27;: [0, 5, 10]})</pre><b>In a Jupyter environment, please rerun this cell to show the HTML representation or trust the notebook. <br />On GitHub, the HTML representation is unable to render, please try loading this page with nbviewer.org.</b></div><div class=\"sk-container\" hidden><div class=\"sk-item sk-dashed-wrapped\"><div class=\"sk-label-container\"><div class=\"sk-label sk-toggleable\"><input class=\"sk-toggleable__control sk-hidden--visually\" id=\"sk-estimator-id-2\" type=\"checkbox\" ><label for=\"sk-estimator-id-2\" class=\"sk-toggleable__label sk-toggleable__label-arrow\">GridSearchCV</label><div class=\"sk-toggleable__content\"><pre>GridSearchCV(estimator=RandomForestRegressor(),\n",
       "             param_grid={&#x27;max_depth&#x27;: [0, 4, 7, 10],\n",
       "                         &#x27;max_samples&#x27;: [0.0, 0.4, 0.6],\n",
       "                         &#x27;n_estimators&#x27;: [0, 5, 10, 50, 100],\n",
       "                         &#x27;n_jobs&#x27;: [0, 5, 10]})</pre></div></div></div><div class=\"sk-parallel\"><div class=\"sk-parallel-item\"><div class=\"sk-item\"><div class=\"sk-label-container\"><div class=\"sk-label sk-toggleable\"><input class=\"sk-toggleable__control sk-hidden--visually\" id=\"sk-estimator-id-3\" type=\"checkbox\" ><label for=\"sk-estimator-id-3\" class=\"sk-toggleable__label sk-toggleable__label-arrow\">estimator: RandomForestRegressor</label><div class=\"sk-toggleable__content\"><pre>RandomForestRegressor()</pre></div></div></div><div class=\"sk-serial\"><div class=\"sk-item\"><div class=\"sk-estimator sk-toggleable\"><input class=\"sk-toggleable__control sk-hidden--visually\" id=\"sk-estimator-id-4\" type=\"checkbox\" ><label for=\"sk-estimator-id-4\" class=\"sk-toggleable__label sk-toggleable__label-arrow\">RandomForestRegressor</label><div class=\"sk-toggleable__content\"><pre>RandomForestRegressor()</pre></div></div></div></div></div></div></div></div></div></div>"
      ],
      "text/plain": [
       "GridSearchCV(estimator=RandomForestRegressor(),\n",
       "             param_grid={'max_depth': [0, 4, 7, 10],\n",
       "                         'max_samples': [0.0, 0.4, 0.6],\n",
       "                         'n_estimators': [0, 5, 10, 50, 100],\n",
       "                         'n_jobs': [0, 5, 10]})"
      ]
     },
     "execution_count": 45,
     "metadata": {},
     "output_type": "execute_result"
    }
   ],
   "source": [
    "clf = GridSearchCV(RandomForestRegressor(), {'n_estimators': [0, 5, 10, 50, 100], \n",
    "#                                        'criterion': [\"squared_error\", \"absolute_error\", \"poisson\"],\n",
    "                                       'max_depth': [0, 4, 7, 10],\n",
    "#                                        'min_samples_split': [0, 1, 2],\n",
    "#                                        'min_samples_leaf': [0, 2, 4],\n",
    "#                                        'bootstrap': [True, False],\n",
    "                                       'n_jobs': [0, 5, 10],\n",
    "                                      'max_samples':[0.0, 0.4, 0.6]})\n",
    "clf.fit(label_X_train, y_train)"
   ]
  },
  {
   "cell_type": "code",
   "execution_count": 46,
   "id": "ef316343",
   "metadata": {},
   "outputs": [
    {
     "data": {
      "text/html": [
       "<style>#sk-container-id-3 {color: black;background-color: white;}#sk-container-id-3 pre{padding: 0;}#sk-container-id-3 div.sk-toggleable {background-color: white;}#sk-container-id-3 label.sk-toggleable__label {cursor: pointer;display: block;width: 100%;margin-bottom: 0;padding: 0.3em;box-sizing: border-box;text-align: center;}#sk-container-id-3 label.sk-toggleable__label-arrow:before {content: \"▸\";float: left;margin-right: 0.25em;color: #696969;}#sk-container-id-3 label.sk-toggleable__label-arrow:hover:before {color: black;}#sk-container-id-3 div.sk-estimator:hover label.sk-toggleable__label-arrow:before {color: black;}#sk-container-id-3 div.sk-toggleable__content {max-height: 0;max-width: 0;overflow: hidden;text-align: left;background-color: #f0f8ff;}#sk-container-id-3 div.sk-toggleable__content pre {margin: 0.2em;color: black;border-radius: 0.25em;background-color: #f0f8ff;}#sk-container-id-3 input.sk-toggleable__control:checked~div.sk-toggleable__content {max-height: 200px;max-width: 100%;overflow: auto;}#sk-container-id-3 input.sk-toggleable__control:checked~label.sk-toggleable__label-arrow:before {content: \"▾\";}#sk-container-id-3 div.sk-estimator input.sk-toggleable__control:checked~label.sk-toggleable__label {background-color: #d4ebff;}#sk-container-id-3 div.sk-label input.sk-toggleable__control:checked~label.sk-toggleable__label {background-color: #d4ebff;}#sk-container-id-3 input.sk-hidden--visually {border: 0;clip: rect(1px 1px 1px 1px);clip: rect(1px, 1px, 1px, 1px);height: 1px;margin: -1px;overflow: hidden;padding: 0;position: absolute;width: 1px;}#sk-container-id-3 div.sk-estimator {font-family: monospace;background-color: #f0f8ff;border: 1px dotted black;border-radius: 0.25em;box-sizing: border-box;margin-bottom: 0.5em;}#sk-container-id-3 div.sk-estimator:hover {background-color: #d4ebff;}#sk-container-id-3 div.sk-parallel-item::after {content: \"\";width: 100%;border-bottom: 1px solid gray;flex-grow: 1;}#sk-container-id-3 div.sk-label:hover label.sk-toggleable__label {background-color: #d4ebff;}#sk-container-id-3 div.sk-serial::before {content: \"\";position: absolute;border-left: 1px solid gray;box-sizing: border-box;top: 0;bottom: 0;left: 50%;z-index: 0;}#sk-container-id-3 div.sk-serial {display: flex;flex-direction: column;align-items: center;background-color: white;padding-right: 0.2em;padding-left: 0.2em;position: relative;}#sk-container-id-3 div.sk-item {position: relative;z-index: 1;}#sk-container-id-3 div.sk-parallel {display: flex;align-items: stretch;justify-content: center;background-color: white;position: relative;}#sk-container-id-3 div.sk-item::before, #sk-container-id-3 div.sk-parallel-item::before {content: \"\";position: absolute;border-left: 1px solid gray;box-sizing: border-box;top: 0;bottom: 0;left: 50%;z-index: -1;}#sk-container-id-3 div.sk-parallel-item {display: flex;flex-direction: column;z-index: 1;position: relative;background-color: white;}#sk-container-id-3 div.sk-parallel-item:first-child::after {align-self: flex-end;width: 50%;}#sk-container-id-3 div.sk-parallel-item:last-child::after {align-self: flex-start;width: 50%;}#sk-container-id-3 div.sk-parallel-item:only-child::after {width: 0;}#sk-container-id-3 div.sk-dashed-wrapped {border: 1px dashed gray;margin: 0 0.4em 0.5em 0.4em;box-sizing: border-box;padding-bottom: 0.4em;background-color: white;}#sk-container-id-3 div.sk-label label {font-family: monospace;font-weight: bold;display: inline-block;line-height: 1.2em;}#sk-container-id-3 div.sk-label-container {text-align: center;}#sk-container-id-3 div.sk-container {/* jupyter's `normalize.less` sets `[hidden] { display: none; }` but bootstrap.min.css set `[hidden] { display: none !important; }` so we also need the `!important` here to be able to override the default hidden behavior on the sphinx rendered scikit-learn.org. See: https://github.com/scikit-learn/scikit-learn/issues/21755 */display: inline-block !important;position: relative;}#sk-container-id-3 div.sk-text-repr-fallback {display: none;}</style><div id=\"sk-container-id-3\" class=\"sk-top-container\"><div class=\"sk-text-repr-fallback\"><pre>RandomForestRegressor(max_depth=10, max_samples=0.4, n_jobs=5)</pre><b>In a Jupyter environment, please rerun this cell to show the HTML representation or trust the notebook. <br />On GitHub, the HTML representation is unable to render, please try loading this page with nbviewer.org.</b></div><div class=\"sk-container\" hidden><div class=\"sk-item\"><div class=\"sk-estimator sk-toggleable\"><input class=\"sk-toggleable__control sk-hidden--visually\" id=\"sk-estimator-id-5\" type=\"checkbox\" checked><label for=\"sk-estimator-id-5\" class=\"sk-toggleable__label sk-toggleable__label-arrow\">RandomForestRegressor</label><div class=\"sk-toggleable__content\"><pre>RandomForestRegressor(max_depth=10, max_samples=0.4, n_jobs=5)</pre></div></div></div></div></div>"
      ],
      "text/plain": [
       "RandomForestRegressor(max_depth=10, max_samples=0.4, n_jobs=5)"
      ]
     },
     "execution_count": 46,
     "metadata": {},
     "output_type": "execute_result"
    }
   ],
   "source": [
    "clf.best_estimator_"
   ]
  },
  {
   "cell_type": "code",
   "execution_count": 47,
   "id": "90f249c3",
   "metadata": {},
   "outputs": [
    {
     "data": {
      "text/html": [
       "<style>#sk-container-id-4 {color: black;background-color: white;}#sk-container-id-4 pre{padding: 0;}#sk-container-id-4 div.sk-toggleable {background-color: white;}#sk-container-id-4 label.sk-toggleable__label {cursor: pointer;display: block;width: 100%;margin-bottom: 0;padding: 0.3em;box-sizing: border-box;text-align: center;}#sk-container-id-4 label.sk-toggleable__label-arrow:before {content: \"▸\";float: left;margin-right: 0.25em;color: #696969;}#sk-container-id-4 label.sk-toggleable__label-arrow:hover:before {color: black;}#sk-container-id-4 div.sk-estimator:hover label.sk-toggleable__label-arrow:before {color: black;}#sk-container-id-4 div.sk-toggleable__content {max-height: 0;max-width: 0;overflow: hidden;text-align: left;background-color: #f0f8ff;}#sk-container-id-4 div.sk-toggleable__content pre {margin: 0.2em;color: black;border-radius: 0.25em;background-color: #f0f8ff;}#sk-container-id-4 input.sk-toggleable__control:checked~div.sk-toggleable__content {max-height: 200px;max-width: 100%;overflow: auto;}#sk-container-id-4 input.sk-toggleable__control:checked~label.sk-toggleable__label-arrow:before {content: \"▾\";}#sk-container-id-4 div.sk-estimator input.sk-toggleable__control:checked~label.sk-toggleable__label {background-color: #d4ebff;}#sk-container-id-4 div.sk-label input.sk-toggleable__control:checked~label.sk-toggleable__label {background-color: #d4ebff;}#sk-container-id-4 input.sk-hidden--visually {border: 0;clip: rect(1px 1px 1px 1px);clip: rect(1px, 1px, 1px, 1px);height: 1px;margin: -1px;overflow: hidden;padding: 0;position: absolute;width: 1px;}#sk-container-id-4 div.sk-estimator {font-family: monospace;background-color: #f0f8ff;border: 1px dotted black;border-radius: 0.25em;box-sizing: border-box;margin-bottom: 0.5em;}#sk-container-id-4 div.sk-estimator:hover {background-color: #d4ebff;}#sk-container-id-4 div.sk-parallel-item::after {content: \"\";width: 100%;border-bottom: 1px solid gray;flex-grow: 1;}#sk-container-id-4 div.sk-label:hover label.sk-toggleable__label {background-color: #d4ebff;}#sk-container-id-4 div.sk-serial::before {content: \"\";position: absolute;border-left: 1px solid gray;box-sizing: border-box;top: 0;bottom: 0;left: 50%;z-index: 0;}#sk-container-id-4 div.sk-serial {display: flex;flex-direction: column;align-items: center;background-color: white;padding-right: 0.2em;padding-left: 0.2em;position: relative;}#sk-container-id-4 div.sk-item {position: relative;z-index: 1;}#sk-container-id-4 div.sk-parallel {display: flex;align-items: stretch;justify-content: center;background-color: white;position: relative;}#sk-container-id-4 div.sk-item::before, #sk-container-id-4 div.sk-parallel-item::before {content: \"\";position: absolute;border-left: 1px solid gray;box-sizing: border-box;top: 0;bottom: 0;left: 50%;z-index: -1;}#sk-container-id-4 div.sk-parallel-item {display: flex;flex-direction: column;z-index: 1;position: relative;background-color: white;}#sk-container-id-4 div.sk-parallel-item:first-child::after {align-self: flex-end;width: 50%;}#sk-container-id-4 div.sk-parallel-item:last-child::after {align-self: flex-start;width: 50%;}#sk-container-id-4 div.sk-parallel-item:only-child::after {width: 0;}#sk-container-id-4 div.sk-dashed-wrapped {border: 1px dashed gray;margin: 0 0.4em 0.5em 0.4em;box-sizing: border-box;padding-bottom: 0.4em;background-color: white;}#sk-container-id-4 div.sk-label label {font-family: monospace;font-weight: bold;display: inline-block;line-height: 1.2em;}#sk-container-id-4 div.sk-label-container {text-align: center;}#sk-container-id-4 div.sk-container {/* jupyter's `normalize.less` sets `[hidden] { display: none; }` but bootstrap.min.css set `[hidden] { display: none !important; }` so we also need the `!important` here to be able to override the default hidden behavior on the sphinx rendered scikit-learn.org. See: https://github.com/scikit-learn/scikit-learn/issues/21755 */display: inline-block !important;position: relative;}#sk-container-id-4 div.sk-text-repr-fallback {display: none;}</style><div id=\"sk-container-id-4\" class=\"sk-top-container\"><div class=\"sk-text-repr-fallback\"><pre>RandomForestRegressor(max_depth=10, max_samples=0.4, n_jobs=5)</pre><b>In a Jupyter environment, please rerun this cell to show the HTML representation or trust the notebook. <br />On GitHub, the HTML representation is unable to render, please try loading this page with nbviewer.org.</b></div><div class=\"sk-container\" hidden><div class=\"sk-item\"><div class=\"sk-estimator sk-toggleable\"><input class=\"sk-toggleable__control sk-hidden--visually\" id=\"sk-estimator-id-6\" type=\"checkbox\" checked><label for=\"sk-estimator-id-6\" class=\"sk-toggleable__label sk-toggleable__label-arrow\">RandomForestRegressor</label><div class=\"sk-toggleable__content\"><pre>RandomForestRegressor(max_depth=10, max_samples=0.4, n_jobs=5)</pre></div></div></div></div></div>"
      ],
      "text/plain": [
       "RandomForestRegressor(max_depth=10, max_samples=0.4, n_jobs=5)"
      ]
     },
     "execution_count": 47,
     "metadata": {},
     "output_type": "execute_result"
    }
   ],
   "source": [
    "RandomForestRegressor(max_depth=10, max_samples=0.4, n_jobs=5)"
   ]
  },
  {
   "cell_type": "code",
   "execution_count": 48,
   "id": "89b2d107",
   "metadata": {},
   "outputs": [
    {
     "data": {
      "text/plain": [
       "array([0.34636406, 0.33194   , 0.33266325, 0.34822922, 0.29869638])"
      ]
     },
     "execution_count": 48,
     "metadata": {},
     "output_type": "execute_result"
    }
   ],
   "source": [
    "n_estimators = 5\n",
    "pipe = Pipeline(steps=[\n",
    "    #('preprocessor', SimpleImputer()),\n",
    "    (\"normalizacao\", MinMaxScaler()),\n",
    "    ('model', RandomForestRegressor(max_depth=7, max_samples=0.6, n_jobs=5))\n",
    "])\n",
    "scores = -1 * cross_val_score(pipe, label_X_train, y_train,\n",
    "                          cv=5,\n",
    "                          scoring='neg_mean_absolute_error')\n",
    "scores"
   ]
  },
  {
   "cell_type": "code",
   "execution_count": 49,
   "id": "9f2a98c5",
   "metadata": {},
   "outputs": [
    {
     "data": {
      "text/plain": [
       "array([0.339432  , 0.33883108, 0.32857353, 0.34072115, 0.290572  ])"
      ]
     },
     "execution_count": 49,
     "metadata": {},
     "output_type": "execute_result"
    }
   ],
   "source": [
    "n_estimators = 5\n",
    "pipe = Pipeline(steps=[\n",
    "    #('preprocessor', SimpleImputer()),\n",
    "    (\"normalizacao\", MinMaxScaler()),\n",
    "    ('model', RandomForestRegressor(max_depth=10, max_samples=0.4, n_jobs=5))\n",
    "])\n",
    "scores = -1 * cross_val_score(pipe, label_X_train, y_train,\n",
    "                          cv=5,\n",
    "                          scoring='neg_mean_absolute_error')\n",
    "scores"
   ]
  },
  {
   "cell_type": "code",
   "execution_count": 50,
   "id": "1950d620",
   "metadata": {},
   "outputs": [
    {
     "data": {
      "text/html": [
       "<style>#sk-container-id-5 {color: black;background-color: white;}#sk-container-id-5 pre{padding: 0;}#sk-container-id-5 div.sk-toggleable {background-color: white;}#sk-container-id-5 label.sk-toggleable__label {cursor: pointer;display: block;width: 100%;margin-bottom: 0;padding: 0.3em;box-sizing: border-box;text-align: center;}#sk-container-id-5 label.sk-toggleable__label-arrow:before {content: \"▸\";float: left;margin-right: 0.25em;color: #696969;}#sk-container-id-5 label.sk-toggleable__label-arrow:hover:before {color: black;}#sk-container-id-5 div.sk-estimator:hover label.sk-toggleable__label-arrow:before {color: black;}#sk-container-id-5 div.sk-toggleable__content {max-height: 0;max-width: 0;overflow: hidden;text-align: left;background-color: #f0f8ff;}#sk-container-id-5 div.sk-toggleable__content pre {margin: 0.2em;color: black;border-radius: 0.25em;background-color: #f0f8ff;}#sk-container-id-5 input.sk-toggleable__control:checked~div.sk-toggleable__content {max-height: 200px;max-width: 100%;overflow: auto;}#sk-container-id-5 input.sk-toggleable__control:checked~label.sk-toggleable__label-arrow:before {content: \"▾\";}#sk-container-id-5 div.sk-estimator input.sk-toggleable__control:checked~label.sk-toggleable__label {background-color: #d4ebff;}#sk-container-id-5 div.sk-label input.sk-toggleable__control:checked~label.sk-toggleable__label {background-color: #d4ebff;}#sk-container-id-5 input.sk-hidden--visually {border: 0;clip: rect(1px 1px 1px 1px);clip: rect(1px, 1px, 1px, 1px);height: 1px;margin: -1px;overflow: hidden;padding: 0;position: absolute;width: 1px;}#sk-container-id-5 div.sk-estimator {font-family: monospace;background-color: #f0f8ff;border: 1px dotted black;border-radius: 0.25em;box-sizing: border-box;margin-bottom: 0.5em;}#sk-container-id-5 div.sk-estimator:hover {background-color: #d4ebff;}#sk-container-id-5 div.sk-parallel-item::after {content: \"\";width: 100%;border-bottom: 1px solid gray;flex-grow: 1;}#sk-container-id-5 div.sk-label:hover label.sk-toggleable__label {background-color: #d4ebff;}#sk-container-id-5 div.sk-serial::before {content: \"\";position: absolute;border-left: 1px solid gray;box-sizing: border-box;top: 0;bottom: 0;left: 50%;z-index: 0;}#sk-container-id-5 div.sk-serial {display: flex;flex-direction: column;align-items: center;background-color: white;padding-right: 0.2em;padding-left: 0.2em;position: relative;}#sk-container-id-5 div.sk-item {position: relative;z-index: 1;}#sk-container-id-5 div.sk-parallel {display: flex;align-items: stretch;justify-content: center;background-color: white;position: relative;}#sk-container-id-5 div.sk-item::before, #sk-container-id-5 div.sk-parallel-item::before {content: \"\";position: absolute;border-left: 1px solid gray;box-sizing: border-box;top: 0;bottom: 0;left: 50%;z-index: -1;}#sk-container-id-5 div.sk-parallel-item {display: flex;flex-direction: column;z-index: 1;position: relative;background-color: white;}#sk-container-id-5 div.sk-parallel-item:first-child::after {align-self: flex-end;width: 50%;}#sk-container-id-5 div.sk-parallel-item:last-child::after {align-self: flex-start;width: 50%;}#sk-container-id-5 div.sk-parallel-item:only-child::after {width: 0;}#sk-container-id-5 div.sk-dashed-wrapped {border: 1px dashed gray;margin: 0 0.4em 0.5em 0.4em;box-sizing: border-box;padding-bottom: 0.4em;background-color: white;}#sk-container-id-5 div.sk-label label {font-family: monospace;font-weight: bold;display: inline-block;line-height: 1.2em;}#sk-container-id-5 div.sk-label-container {text-align: center;}#sk-container-id-5 div.sk-container {/* jupyter's `normalize.less` sets `[hidden] { display: none; }` but bootstrap.min.css set `[hidden] { display: none !important; }` so we also need the `!important` here to be able to override the default hidden behavior on the sphinx rendered scikit-learn.org. See: https://github.com/scikit-learn/scikit-learn/issues/21755 */display: inline-block !important;position: relative;}#sk-container-id-5 div.sk-text-repr-fallback {display: none;}</style><div id=\"sk-container-id-5\" class=\"sk-top-container\"><div class=\"sk-text-repr-fallback\"><pre>Pipeline(steps=[(&#x27;normalizacao&#x27;, MinMaxScaler()),\n",
       "                (&#x27;model&#x27;,\n",
       "                 RandomForestRegressor(max_depth=10, max_samples=0.4,\n",
       "                                       n_jobs=5))])</pre><b>In a Jupyter environment, please rerun this cell to show the HTML representation or trust the notebook. <br />On GitHub, the HTML representation is unable to render, please try loading this page with nbviewer.org.</b></div><div class=\"sk-container\" hidden><div class=\"sk-item sk-dashed-wrapped\"><div class=\"sk-label-container\"><div class=\"sk-label sk-toggleable\"><input class=\"sk-toggleable__control sk-hidden--visually\" id=\"sk-estimator-id-7\" type=\"checkbox\" ><label for=\"sk-estimator-id-7\" class=\"sk-toggleable__label sk-toggleable__label-arrow\">Pipeline</label><div class=\"sk-toggleable__content\"><pre>Pipeline(steps=[(&#x27;normalizacao&#x27;, MinMaxScaler()),\n",
       "                (&#x27;model&#x27;,\n",
       "                 RandomForestRegressor(max_depth=10, max_samples=0.4,\n",
       "                                       n_jobs=5))])</pre></div></div></div><div class=\"sk-serial\"><div class=\"sk-item\"><div class=\"sk-estimator sk-toggleable\"><input class=\"sk-toggleable__control sk-hidden--visually\" id=\"sk-estimator-id-8\" type=\"checkbox\" ><label for=\"sk-estimator-id-8\" class=\"sk-toggleable__label sk-toggleable__label-arrow\">MinMaxScaler</label><div class=\"sk-toggleable__content\"><pre>MinMaxScaler()</pre></div></div></div><div class=\"sk-item\"><div class=\"sk-estimator sk-toggleable\"><input class=\"sk-toggleable__control sk-hidden--visually\" id=\"sk-estimator-id-9\" type=\"checkbox\" ><label for=\"sk-estimator-id-9\" class=\"sk-toggleable__label sk-toggleable__label-arrow\">RandomForestRegressor</label><div class=\"sk-toggleable__content\"><pre>RandomForestRegressor(max_depth=10, max_samples=0.4, n_jobs=5)</pre></div></div></div></div></div></div></div>"
      ],
      "text/plain": [
       "Pipeline(steps=[('normalizacao', MinMaxScaler()),\n",
       "                ('model',\n",
       "                 RandomForestRegressor(max_depth=10, max_samples=0.4,\n",
       "                                       n_jobs=5))])"
      ]
     },
     "execution_count": 50,
     "metadata": {},
     "output_type": "execute_result"
    }
   ],
   "source": [
    "pipe.fit(label_X_test, y_test)"
   ]
  },
  {
   "cell_type": "code",
   "execution_count": 51,
   "id": "57098261",
   "metadata": {},
   "outputs": [
    {
     "data": {
      "text/plain": [
       "0.8560250248455571"
      ]
     },
     "execution_count": 51,
     "metadata": {},
     "output_type": "execute_result"
    }
   ],
   "source": [
    "pipe.score(label_X_test, y_test)"
   ]
  },
  {
   "cell_type": "code",
   "execution_count": 52,
   "id": "c4777621",
   "metadata": {},
   "outputs": [],
   "source": [
    "from joblib import dump, load"
   ]
  },
  {
   "cell_type": "code",
   "execution_count": 53,
   "id": "0b69bc1d",
   "metadata": {},
   "outputs": [
    {
     "data": {
      "text/plain": [
       "['ordinal_encoder.joblin']"
      ]
     },
     "execution_count": 53,
     "metadata": {},
     "output_type": "execute_result"
    }
   ],
   "source": [
    "dump(pipe, 'pipe_rfr.joblib')\n",
    "dump(ordinal_encoder, 'ordinal_encoder.joblin')"
   ]
  },
  {
   "cell_type": "code",
   "execution_count": 54,
   "id": "1df3d082",
   "metadata": {},
   "outputs": [],
   "source": [
    "ordinal_encoder = load('ordinal_encoder.joblin')"
   ]
  },
  {
   "cell_type": "code",
   "execution_count": 78,
   "id": "e93b8b47",
   "metadata": {},
   "outputs": [],
   "source": [
    "teste = label_X_train.loc[0,:].to_frame().T"
   ]
  },
  {
   "cell_type": "code",
   "execution_count": 79,
   "id": "059db7ea",
   "metadata": {},
   "outputs": [
    {
     "data": {
      "text/html": [
       "<div>\n",
       "<style scoped>\n",
       "    .dataframe tbody tr th:only-of-type {\n",
       "        vertical-align: middle;\n",
       "    }\n",
       "\n",
       "    .dataframe tbody tr th {\n",
       "        vertical-align: top;\n",
       "    }\n",
       "\n",
       "    .dataframe thead th {\n",
       "        text-align: right;\n",
       "    }\n",
       "</style>\n",
       "<table border=\"1\" class=\"dataframe\">\n",
       "  <thead>\n",
       "    <tr style=\"text-align: right;\">\n",
       "      <th></th>\n",
       "      <th>Quartos</th>\n",
       "      <th>Banheiros</th>\n",
       "      <th>Estacionamento</th>\n",
       "      <th>area</th>\n",
       "      <th>Bairro</th>\n",
       "    </tr>\n",
       "  </thead>\n",
       "  <tbody>\n",
       "    <tr>\n",
       "      <th>0</th>\n",
       "      <td>2.0</td>\n",
       "      <td>21.0</td>\n",
       "      <td>1.0</td>\n",
       "      <td>80.0</td>\n",
       "      <td>96.0</td>\n",
       "    </tr>\n",
       "  </tbody>\n",
       "</table>\n",
       "</div>"
      ],
      "text/plain": [
       "   Quartos  Banheiros  Estacionamento  area  Bairro\n",
       "0      2.0       21.0             1.0  80.0    96.0"
      ]
     },
     "execution_count": 79,
     "metadata": {},
     "output_type": "execute_result"
    }
   ],
   "source": [
    "teste"
   ]
  },
  {
   "cell_type": "code",
   "execution_count": 80,
   "id": "e9c5cd63",
   "metadata": {},
   "outputs": [
    {
     "data": {
      "text/plain": [
       "array([3151.93459626])"
      ]
     },
     "execution_count": 80,
     "metadata": {},
     "output_type": "execute_result"
    }
   ],
   "source": [
    "np.exp(pipe.predict(teste))"
   ]
  },
  {
   "cell_type": "code",
   "execution_count": 81,
   "id": "c2737a03",
   "metadata": {},
   "outputs": [],
   "source": []
  },
  {
   "cell_type": "code",
   "execution_count": 91,
   "id": "651f83e5",
   "metadata": {},
   "outputs": [],
   "source": [
    "teste.loc[0, 'Quartos'] = 1\n",
    "teste.loc[0, 'Banheiros'] = 1\n",
    "teste.loc[0, 'Bairro'] = 45\n",
    "teste.loc[0, 'area'] = 2"
   ]
  },
  {
   "cell_type": "code",
   "execution_count": 92,
   "id": "b7cf5e42",
   "metadata": {},
   "outputs": [
    {
     "data": {
      "text/html": [
       "<div>\n",
       "<style scoped>\n",
       "    .dataframe tbody tr th:only-of-type {\n",
       "        vertical-align: middle;\n",
       "    }\n",
       "\n",
       "    .dataframe tbody tr th {\n",
       "        vertical-align: top;\n",
       "    }\n",
       "\n",
       "    .dataframe thead th {\n",
       "        text-align: right;\n",
       "    }\n",
       "</style>\n",
       "<table border=\"1\" class=\"dataframe\">\n",
       "  <thead>\n",
       "    <tr style=\"text-align: right;\">\n",
       "      <th></th>\n",
       "      <th>Quartos</th>\n",
       "      <th>Banheiros</th>\n",
       "      <th>Estacionamento</th>\n",
       "      <th>area</th>\n",
       "      <th>Bairro</th>\n",
       "    </tr>\n",
       "  </thead>\n",
       "  <tbody>\n",
       "    <tr>\n",
       "      <th>0</th>\n",
       "      <td>1.0</td>\n",
       "      <td>1.0</td>\n",
       "      <td>1.0</td>\n",
       "      <td>2.0</td>\n",
       "      <td>45.0</td>\n",
       "    </tr>\n",
       "  </tbody>\n",
       "</table>\n",
       "</div>"
      ],
      "text/plain": [
       "   Quartos  Banheiros  Estacionamento  area  Bairro\n",
       "0      1.0        1.0             1.0   2.0    45.0"
      ]
     },
     "execution_count": 92,
     "metadata": {},
     "output_type": "execute_result"
    }
   ],
   "source": [
    "teste"
   ]
  },
  {
   "cell_type": "code",
   "execution_count": 93,
   "id": "e87f6bb5",
   "metadata": {},
   "outputs": [
    {
     "data": {
      "text/plain": [
       "array([1524.2798505])"
      ]
     },
     "execution_count": 93,
     "metadata": {},
     "output_type": "execute_result"
    }
   ],
   "source": [
    "np.exp(pipe.predict(teste))"
   ]
  },
  {
   "cell_type": "code",
   "execution_count": null,
   "id": "c4aeb6ee",
   "metadata": {},
   "outputs": [],
   "source": []
  }
 ],
 "metadata": {
  "kernelspec": {
   "display_name": "Python 3 (ipykernel)",
   "language": "python",
   "name": "python3"
  },
  "language_info": {
   "codemirror_mode": {
    "name": "ipython",
    "version": 3
   },
   "file_extension": ".py",
   "mimetype": "text/x-python",
   "name": "python",
   "nbconvert_exporter": "python",
   "pygments_lexer": "ipython3",
   "version": "3.9.7"
  }
 },
 "nbformat": 4,
 "nbformat_minor": 5
}
